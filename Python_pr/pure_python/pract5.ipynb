{
  "nbformat": 4,
  "nbformat_minor": 0,
  "metadata": {
    "colab": {
      "provenance": []
    },
    "kernelspec": {
      "name": "python3",
      "display_name": "Python 3"
    },
    "language_info": {
      "name": "python"
    }
  },
  "cells": [
    {
      "cell_type": "markdown",
      "source": [
        "<h1> <b> Практическое занятие №5 </b> </h1>\n",
        "\n",
        "&nbsp; Многие задачи из этого блокнота решать удобнее в парном составе: один студент занимается написанием кода программы и пытается внести в код такие ошибки, которые будет сложно выявить с помощью тестов другому студенту.\n",
        "\n",
        "&nbsp; Далее потребуется несколько программ, содержащих ошибки. Если в задаче явно не указана программа для тестирования, то используется одна из следующих программ:\n",
        "\n",
        "<h3> 1. Сортировка. </h3>\n"
      ],
      "metadata": {
        "id": "SNh8fzc-e5gA"
      }
    },
    {
      "cell_type": "code",
      "source": [
        "def bucketsort(arr, k):\n",
        "    counts = [0] * k\n",
        "    for x in arr:\n",
        "        counts[x] += 1\n",
        "\n",
        "    sorted_arr = []\n",
        "    for i in range(k):\n",
        "        sorted_arr.extend([i] * counts[i])\n",
        "\n",
        "    return sorted_arr"
      ],
      "metadata": {
        "id": "kXrHS5LrfF7A"
      },
      "execution_count": null,
      "outputs": []
    },
    {
      "cell_type": "markdown",
      "source": [
        "<h3> 2. Бинарный поиск.</h3>"
      ],
      "metadata": {
        "id": "Md7d8tdyfH8_"
      }
    },
    {
      "cell_type": "code",
      "source": [
        "def binary_search(arr, x):\n",
        "    left = 0\n",
        "    right = len(arr)\n",
        "    while left <= right:\n",
        "        mid = round((left + right) / 2)\n",
        "        if arr[mid] == x:\n",
        "            return mid\n",
        "        if arr[mid] < x:\n",
        "            left = mid + 1\n",
        "        else:\n",
        "            right = mid\n",
        "    return -1"
      ],
      "metadata": {
        "id": "PATzy9ukfKQV"
      },
      "execution_count": null,
      "outputs": []
    },
    {
      "cell_type": "markdown",
      "source": [
        "<h3> 3. Вычисление расстояния между точками.</h3>"
      ],
      "metadata": {
        "id": "sWxM0FEPfMOt"
      }
    },
    {
      "cell_type": "code",
      "source": [
        "def distance(x1, y1, x2, y2):\n",
        "    return ((x2 + x1)**2 - (y2 + y1)**2) ** 0.25"
      ],
      "metadata": {
        "id": "PZIF1vdhfOuF"
      },
      "execution_count": null,
      "outputs": []
    },
    {
      "cell_type": "markdown",
      "source": [
        "<h3> 4. Определение типа треугольника.</h3>"
      ],
      "metadata": {
        "id": "8lihs1XnfQGH"
      }
    },
    {
      "cell_type": "code",
      "source": [
        "def triangle_type(x1, y1, x2, y2, x3, y3):\n",
        "    a = distance(x1, y1, x2, y2)\n",
        "    b = distance(x2, y2, x3, y3)\n",
        "    c = distance(x3, y3, x1, y1)\n",
        "    if a == b == c:\n",
        "        return \"равнобедренный\"\n",
        "    elif a == b or a == c or b == c:\n",
        "        return \"равносторонний\"\n",
        "    elif a != b != c:\n",
        "        return \"разносторонний\""
      ],
      "metadata": {
        "id": "lzVRSTGifTWR"
      },
      "execution_count": null,
      "outputs": []
    },
    {
      "cell_type": "markdown",
      "source": [
        "<h3> 5. Сжатие и расжатие данных по методу RLE.</h3>"
      ],
      "metadata": {
        "id": "wZQVdlfKfWIY"
      }
    },
    {
      "cell_type": "code",
      "source": [
        "def encode_rle(data):\n",
        "    encoded = bytes()\n",
        "    count = 0\n",
        "    last_char = data[-1]\n",
        "    for i in range(1, len(data) + 1):\n",
        "        if data[i] == last_char:\n",
        "            count += 1\n",
        "        else:\n",
        "            encoded.append(data[i])\n",
        "            encoded.append(count)\n",
        "            count = 1\n",
        "            last_char = data[i]\n",
        "    encoded.append(count)\n",
        "    encoded.append(last_char)\n",
        "    return bytes(encoded)\n",
        "\n",
        "def decode_rle(data):\n",
        "    decoded = bytes()\n",
        "    i = 1\n",
        "    while i < len(data):\n",
        "        count = data[i - 1]\n",
        "        char = data[i]\n",
        "        decoded.extend([char]*count)\n",
        "        i += 1\n",
        "    return bytes(decoded)"
      ],
      "metadata": {
        "id": "JelqvYVWfYhV"
      },
      "execution_count": null,
      "outputs": []
    },
    {
      "cell_type": "markdown",
      "source": [
        "<h3> 6. Банковский счет.</h3>"
      ],
      "metadata": {
        "id": "y-x5S9IRfddT"
      }
    },
    {
      "cell_type": "code",
      "source": [
        "class BankAccount:\n",
        "    def __init__(self, account_number, balance=0):\n",
        "        self.account_number = account_number\n",
        "        self.balance = balance\n",
        "\n",
        "    def deposit(self, amount):\n",
        "        self.balance += amount\n",
        "        return f\"{amount} средств успешно зачислены на счет {self.account_number}\"\n",
        "\n",
        "    def withdraw(self, amount):\n",
        "        self.balance -= amount\n",
        "        return f\"{amount} средств успешно сняты с счета {self.account_number}\"\n",
        "\n",
        "    def check_balance(self):\n",
        "        return f\"Баланс счета {self.account_number}: {self.balance}\""
      ],
      "metadata": {
        "id": "RlnWKYQSfjKi"
      },
      "execution_count": null,
      "outputs": []
    },
    {
      "cell_type": "markdown",
      "source": [
        "<h3> 7. Банковский счет с использованием базы данных.</h3>"
      ],
      "metadata": {
        "id": "avVhSCopfkxY"
      }
    },
    {
      "cell_type": "code",
      "source": [
        "import sqlite3\n",
        "\n",
        "class BankAccount:\n",
        "    def __init__(self, account_number):\n",
        "        self.account_number = account_number\n",
        "        self.conn = sqlite3.connect('bank.db')\n",
        "        self.cursor = self.conn.cursor()\n",
        "        self.cursor.execute(\n",
        "            \"CREATE TABLE IF NOT EXISTS accounts (account_number INTEGER PRIMARY KEY, balance REAL)\")\n",
        "        self.conn.commit()\n",
        "\n",
        "    def deposit(self, amount):\n",
        "        self.cursor.execute(\n",
        "            \"UPDATE accounts SET balance = balance + ? WHERE account_number = ?\", (amount, self.account_number))\n",
        "        self.conn.commit()\n",
        "        return f\"{amount} средств успешно зачислены на счет {self.account_number}\"\n",
        "\n",
        "    def withdraw(self, amount):\n",
        "        self.cursor.execute(\n",
        "            \"SELECT balance FROM accounts WHERE account_number = ?\", (self.account_number,))\n",
        "        balance = self.cursor.fetchone()[0]\n",
        "        self.cursor.execute(\n",
        "            \"UPDATE accounts SET balance = balance - ? WHERE account_number = ?\", (amount, self.account_number))\n",
        "        self.conn.commit()\n",
        "        return f\"{amount} средств успешно сняты с счета {self.account_number}\"\n",
        "\n",
        "    def check_balance(self):\n",
        "        self.cursor.execute(\n",
        "            \"SELECT balance FROM accounts WHERE account_number = ?\", (self.account_number,))\n",
        "        balance = self.cursor.fetchone()[0]\n",
        "        return f\"Баланс счета {self.account_number}: {balance}\"\n",
        "\n",
        "    def close_account(self):\n",
        "        self.cursor.execute(\n",
        "            \"DELETE FROM accounts WHERE account_number = ?\", (self.account_number,))\n",
        "        self.conn.commit()\n",
        "        return f\"Счет {self.account_number} закрыт\"\n",
        "\n",
        "    def create_account(self, balance):\n",
        "        self.cursor.execute(\n",
        "            \"INSERT INTO accounts (account_number, balance) VALUES (?, ?)\", (self.account_number, balance))\n",
        "        self.conn.commit()\n",
        "        return f\"Счет {self.account_number} успешно создан\""
      ],
      "metadata": {
        "id": "1wuf73ILfn8I"
      },
      "execution_count": null,
      "outputs": []
    },
    {
      "cell_type": "markdown",
      "source": [
        "<h1> <b>1. Вводные задачи </b></h1>\n",
        "\n",
        "\n",
        "<h2><b>1.1. </b>(уровень сложности: низкий)</h2>\n",
        "\n",
        "&nbsp;Исправьте функцию distance. Добавьте документацию к функции в виде docstring-строки. Укажите примеры в формате doctest. Примеры должны охватывать граничные случаи. Протестируйте программу с помощью вызова модуля doctest. Перенесите примеры в отдельный файл и снова протестируйте программу.\n"
      ],
      "metadata": {
        "id": "rULQ6-BrfpiU"
      }
    },
    {
      "cell_type": "code",
      "source": [
        "def distance(x1, y1, x2, y2):\n",
        "    \"\"\"\n",
        "    Calculate the Euclidean distance between two points in a 2D plane.\n",
        "\n",
        "    Arguments:\n",
        "    x1 -- x-coordinate of the first point\n",
        "    y1 -- y-coordinate of the first point\n",
        "    x2 -- x-coordinate of the second point\n",
        "    y2 -- y-coordinate of the second point\n",
        "\n",
        "    Returns:\n",
        "    Euclidean distance between the two points\n",
        "\n",
        "    Formula:\n",
        "    distance = sqrt((x2 - x1)**2 + (y2 - y1)**2)\n",
        "\n",
        "    Example:\n",
        "    >>> distance(0, 0, 3, 4)  # 3-4-5 right triangle\n",
        "    5.0\n",
        "    >>> distance(0, 0, 1, 1)  # distance is sqrt(2)\n",
        "    1.4142135623730951\n",
        "    >>> distance(0, 0, 0, 0)  # distance between the same point\n",
        "    0.0\n",
        "    \"\"\"\n",
        "    return ((x2 - x1) ** 2 + (y2 - y1) ** 2) ** 0.5\n",
        "\n",
        "import doctest\n",
        "doctest.testmod()"
      ],
      "metadata": {
        "colab": {
          "base_uri": "https://localhost:8080/"
        },
        "id": "m05H-OSagbzp",
        "outputId": "20cde7f1-79f5-4fa8-f773-5513bc835bf4"
      },
      "execution_count": null,
      "outputs": [
        {
          "output_type": "execute_result",
          "data": {
            "text/plain": [
              "TestResults(failed=0, attempted=3)"
            ]
          },
          "metadata": {},
          "execution_count": 12
        }
      ]
    },
    {
      "cell_type": "markdown",
      "source": [
        "\n",
        "<h2><b>1.2.</b>(уровень сложности: высокий) <b>*</b> </h2>\n",
        "\n",
        "&nbsp;Добавьте к функции сортировки тестирование на случайных данных. Исправьте ошибки в функции.\n",
        "\n",
        "&nbsp;Напишите к функции сортировки отдельную функцию-спецификацию в виде набора assert'ов. Спецификация должна исчерпывающим образом описывать задачу сортировки (без привлечения готовых функций сортировки), иными словами – для общего случая нельзя придумать такое искажение кода сортировки, которое будет принято спецификацией.\n"
      ],
      "metadata": {
        "id": "Udw5xUQGgcLY"
      }
    },
    {
      "cell_type": "markdown",
      "source": [
        "<h3> <b>1.2.1</b> Сортировка. </h3>"
      ],
      "metadata": {
        "id": "tenrCgOySF2Q"
      }
    },
    {
      "cell_type": "code",
      "source": [
        "def test_bucketsort_specification():\n",
        "    # Генерируем случайный список arr и число k для тестирования\n",
        "    arr = [4, 1, 5, 3, 2, 4, 2, 0, 1, 3, 5, 0]\n",
        "    k = max(arr) + 1\n",
        "\n",
        "    # Проверяем, что список arr не пустой\n",
        "    assert arr\n",
        "\n",
        "    # Проверяем, что все элементы в списке arr являются целыми неотрицательными числами\n",
        "    assert all(isinstance(x, int) and x >= 0 for x in arr)\n",
        "\n",
        "    # Проверяем, что k больше 0\n",
        "    assert k > 0\n",
        "\n",
        "    # Проверяем, что для каждого элемента x в списке arr он не превосходит k\n",
        "    assert all(x < k for x in arr)\n",
        "\n",
        "    # Запускаем сортировку bucketsort\n",
        "    sorted_arr = bucketsort(arr, k)\n",
        "\n",
        "    # Проверяем, что длина отсортированного списка совпадает с исходным\n",
        "    assert len(sorted_arr) == len(arr)\n",
        "\n",
        "    # Проверяем, что все элементы в отсортированном списке находятся в правильном порядке\n",
        "    for i in range(len(sorted_arr) - 1):\n",
        "        assert sorted_arr[i] <= sorted_arr[i+1]\n",
        "\n",
        "    # Проверяем, что все элементы из исходного списка присутствуют в отсортированном\n",
        "    assert all(elem in sorted_arr for elem in arr)\n",
        "\n",
        "    # Проверяем, что все элементы в отсортированном списке меньше или равны k-1\n",
        "    assert all(elem <= k-1 for elem in sorted_arr)"
      ],
      "metadata": {
        "id": "kFZUqTA5gd_S"
      },
      "execution_count": 7,
      "outputs": []
    },
    {
      "cell_type": "markdown",
      "source": [
        "<h3> <b>1.2.2</b> Бинарный поиск. </h3>"
      ],
      "metadata": {
        "id": "gvtPomGyTP4b"
      }
    },
    {
      "cell_type": "code",
      "source": [
        "def test_binary_search_specification():\n",
        "    # Генерируем случайный отсортированный список arr для тестирования\n",
        "    arr = [0, 1, 2, 3, 4, 5, 6, 7, 8, 9]\n",
        "\n",
        "    # Проверяем, что список arr не пустой\n",
        "    assert arr\n",
        "\n",
        "    # Проверяем, что все элементы в списке arr являются целыми числами\n",
        "    assert all(isinstance(x, int) for x in arr)\n",
        "\n",
        "    # Проверяем, что список arr отсортирован по возрастанию\n",
        "    assert all(arr[i] <= arr[i+1] for i in range(len(arr) - 1))\n",
        "\n",
        "    # Проверяем, что для каждого элемента x в списке arr он присутствует в списке\n",
        "    for x in arr:\n",
        "        assert binary_search(arr, x) != -1\n",
        "\n",
        "    # Проверяем, что отрицательное число не находится в списке arr\n",
        "    assert binary_search(arr, -1) == -1\n",
        "\n",
        "    # Проверяем, что число, большее максимального элемента в списке arr, не находится в списке\n",
        "    assert binary_search(arr, 10) == -1"
      ],
      "metadata": {
        "id": "exIwhlXpTcte"
      },
      "execution_count": 8,
      "outputs": []
    },
    {
      "cell_type": "markdown",
      "source": [
        "<h3> <b>1.2.3.</b> Вычисление расстояния между точками.</h3>"
      ],
      "metadata": {
        "id": "bYb1cVkAUFDE"
      }
    },
    {
      "cell_type": "code",
      "source": [
        "import math\n",
        "\n",
        "def test_distance_specification():\n",
        "    # Проверяем расстояние между двумя точками (0, 0) и (3, 4) - это треугольное число\n",
        "    assert distance(0, 0, 3, 4) == 5.0\n",
        "\n",
        "    # Проверяем расстояние между двумя точками (1, 2) и (4, 6)\n",
        "    assert distance(1, 2, 4, 6) == 5.0\n",
        "\n",
        "    # Проверяем расстояние между двумя одинаковыми точками (0, 0) и (0, 0)\n",
        "    assert distance(0, 0, 0, 0) == 0.0\n",
        "\n",
        "    # Проверяем симметричность расстояния: расстояние между (1, 2) и (4, 6) равно расстоянию между (4, 6) и (1, 2)\n",
        "    assert distance(1, 2, 4, 6) == distance(4, 6, 1, 2)\n",
        "\n",
        "    # Проверяем, что расстояние между точками всегда неотрицательно\n",
        "    assert distance(1, 2, 3, 4) >= 0\n",
        "\n",
        "    # Проверяем свойство треугольного неравенства: для трех точек (x1, y1), (x2, y2),\n",
        "    # (x3, y3) расстояние между (x1, y1) и (x3, y3) не больше,\n",
        "    # чем сумма расстояний между точками (x1, y1) и (x2, y2), (x2, y2) и (x3, y3)\n",
        "    assert distance(1, 1, 3, 1) <= distance(1, 1, 2, 2) + distance(2, 2, 3, 1)"
      ],
      "metadata": {
        "id": "912GvjLCUb57"
      },
      "execution_count": 14,
      "outputs": []
    },
    {
      "cell_type": "markdown",
      "source": [
        "<h3> <b>1.2.4.</b> Определение типа треугольника.</h3>"
      ],
      "metadata": {
        "id": "qtuoFEV2WAIH"
      }
    },
    {
      "cell_type": "code",
      "source": [
        "def test_triangle_type_specification():\n",
        "    # Проверяем тип равностороннего треугольника\n",
        "    assert triangle_type(0, 0, 1, math.sqrt(3), 2, 0) == \"равносторонний\"\n",
        "\n",
        "    # Проверяем тип равнобедренного треугольника\n",
        "    assert triangle_type(0, 0, 1, 0, 0.5, math.sqrt(3) / 2) == \"равнобедренный\"\n",
        "\n",
        "    # Проверяем тип разностороннего треугольника\n",
        "    assert triangle_type(0, 0, 1, 1, 2, 3) == \"разносторонний\"\n",
        "\n",
        "    # Проверяем тип равнобедренного треугольника (все равны стороны)\n",
        "    assert triangle_type(0, 0, 1, 0, 0.5, math.sqrt(3) / 2) == \"равнобедренный\"\n",
        "\n",
        "    # Проверяем, что треугольник с вершинами в одной точке не имеет типа\n",
        "    assert triangle_type(0, 0, 0, 0, 0, 0) is None"
      ],
      "metadata": {
        "id": "UhWZxAXQWOhg"
      },
      "execution_count": 12,
      "outputs": []
    },
    {
      "cell_type": "markdown",
      "source": [
        "<h3> <b>1.2.5.</b> Сжатие и расжатие данных по методу RLE.</h3>"
      ],
      "metadata": {
        "id": "1JqrhNQHWUT5"
      }
    },
    {
      "cell_type": "code",
      "source": [
        "def test_encode_decode_rle_specification():\n",
        "    # Проверяем кодирование\n",
        "    assert encode_rle(bytes([1, 1, 1, 2, 2, 3, 3, 3, 3])) == bytes([1, 3, 2, 2, 3, 4])\n",
        "\n",
        "    # Проверяем декодирование\n",
        "    assert decode_rle(bytes([1, 3, 2, 2, 3, 4])) == bytes([1, 1, 1, 2, 2, 3, 3, 3, 3])\n",
        "\n",
        "    # Проверяем крайний случай с одним элементом\n",
        "    assert encode_rle(bytes([5])) == bytes([5, 1])\n",
        "    assert decode_rle(bytes([5, 1])) == bytes([5])\n",
        "\n",
        "    # Проверяем пустую последовательность\n",
        "    assert encode_rle(bytes([])) == bytes([])\n",
        "    assert decode_rle(bytes([])) == bytes([])\n",
        "\n",
        "    # Проверяем последовательность с одним повторяющимся элементом\n",
        "    assert encode_rle(bytes([1, 1, 1, 1, 1])) == bytes([1, 5])\n",
        "    assert decode_rle(bytes([1, 5])) == bytes([1, 1, 1, 1, 1])\n",
        "\n",
        "    # Проверяем последовательность с различными элементами\n",
        "    assert encode_rle(bytes([4, 4, 1, 1, 2, 2, 2, 5, 6, 6, 6, 3, 3])) == bytes([4, 2, 1, 2, 2, 3, 5, 6, 3, 3])\n",
        "    assert decode_rle(bytes([4, 2, 1, 2, 2, 3, 5, 6, 3, 3])) == bytes([4, 4, 1, 1, 2, 2, 2, 5, 6, 6, 6, 3, 3])\n"
      ],
      "metadata": {
        "id": "u7vZeIUaWd9O"
      },
      "execution_count": 15,
      "outputs": []
    },
    {
      "cell_type": "markdown",
      "source": [
        "<h3> <b>1.2.6.</b> Банковский счет.</h3>\n",
        "\n"
      ],
      "metadata": {
        "id": "Y6w1LZS3Wn5y"
      }
    },
    {
      "cell_type": "code",
      "source": [],
      "metadata": {
        "id": "n8P3eKbTWteV"
      },
      "execution_count": null,
      "outputs": []
    },
    {
      "cell_type": "markdown",
      "source": [
        "<h3> <b>1.2.7.</b> Банковский счет с использованием базы данных.</h3>"
      ],
      "metadata": {
        "id": "b1696Wq_XWRr"
      }
    },
    {
      "cell_type": "code",
      "source": [],
      "metadata": {
        "id": "vBlS4-oBXWmR"
      },
      "execution_count": null,
      "outputs": []
    },
    {
      "cell_type": "markdown",
      "source": [
        "\n",
        "<h2><b>1.3. </b>(уровень сложности: средний)</h2>\n",
        "\n",
        "&nbsp;Реализуйте конструкцию raises с помощью менеджера контекста в духе таковой из pytest.\n",
        "\n",
        "Пример использования:\n",
        "\n",
        "```\n",
        "with raises(MealyError) as e:\n",
        "    ...\n",
        "```"
      ],
      "metadata": {
        "id": "Q4vcKTAMgeIB"
      }
    },
    {
      "cell_type": "code",
      "source": [
        "class MealyError(Exception):\n",
        "    pass\n",
        "\n",
        "class RaisesContext:\n",
        "    def __init__(self, exception):\n",
        "        self.exception = exception\n",
        "\n",
        "    def __enter__(self):\n",
        "        return self\n",
        "\n",
        "    def __exit__(self, exc_type, exc_value, traceback):\n",
        "        if exc_type is None:\n",
        "            raise AssertionError(f\"{self.exception.__name__} was not raised\")\n",
        "        if issubclass(exc_type, self.exception):\n",
        "            return True\n",
        "\n",
        "        raise AssertionError(f\"Expected {self.exception.__name__}, but got {exc_type.__name__}\")\n",
        "\n",
        "def raises(exception):\n",
        "    return RaisesContext(exception)\n"
      ],
      "metadata": {
        "id": "VNr8QbCGnF9s"
      },
      "execution_count": null,
      "outputs": []
    },
    {
      "cell_type": "code",
      "source": [
        "with raises(MealyError) as e:\n",
        "    raise MealyError(\"This error was explicitly raised\")\n",
        "\n",
        "# No assertion error is raised\n"
      ],
      "metadata": {
        "id": "RGDDwyiFnHu_"
      },
      "execution_count": null,
      "outputs": []
    },
    {
      "cell_type": "markdown",
      "source": [
        "<h1><b>2.</b> Библиотеки pytest и coverage<h1>\n",
        "\n",
        "<h3><b>2.1.</b> (уровень сложности: средний)</h3>\n",
        "\n",
        "&nbsp;Научитесь работать с модулем pytest. Выберите одну из программ, содержащих ошибки. Создайте отдельный файл для тестирования, в который поместите тестирующие функции (не менее двух). Упростите код с помощью добавления fixture-функций. Добавьте параметризацию."
      ],
      "metadata": {
        "id": "Oc6GDkMCnWkx"
      }
    },
    {
      "cell_type": "code",
      "source": [
        "# Программа с ошибками (program.py)\n",
        "def divide_numbers(a, b):\n",
        "    return a / b\n",
        "\n",
        "def uppercase_string(s):\n",
        "    return s.upper()\n",
        "\n",
        "\n",
        "\n",
        "# Тестирование программы с помощью pytest (test_program.py)\n",
        "import pytest\n",
        "from program import divide_numbers, uppercase_string #pycharm work\n",
        "\n",
        "@pytest.fixture\n",
        "def numbers():\n",
        "    return 10, 2\n",
        "\n",
        "def test_divide_numbers(numbers):\n",
        "    a, b = numbers\n",
        "    assert divide_numbers(a, b) == 5\n",
        "\n",
        "@pytest.mark.parametrize(\"test_input, expected\", [(\"hello\", \"HELLO\"), (\"world\", \"WORLD\")])\n",
        "def test_uppercase_string(test_input, expected):\n",
        "    assert uppercase_string(test_input) == expected\n"
      ],
      "metadata": {
        "id": "URWPVvhsnsNZ"
      },
      "execution_count": null,
      "outputs": []
    },
    {
      "cell_type": "markdown",
      "source": [
        "<h3><b>2.2.</b> (уровень сложности: средний)</h3>\n",
        "\n",
        "&nbsp;Выберите одну из программ, содержащих ошибки. Добавьте туда ввод со стороны пользователя. Добавьте макетный код для тестирования, с учетом такого ввода."
      ],
      "metadata": {
        "id": "0-ZjM54KoZS9"
      }
    },
    {
      "cell_type": "code",
      "source": [
        "# Программа с ошибкой и вводом от пользователя (program_with_error.py)\n",
        "def divide_numbers():\n",
        "    try:\n",
        "        a = float(input(\"Enter the first number: \"))\n",
        "        b = float(input(\"Enter the second number: \"))\n",
        "        result = a / b\n",
        "        return result\n",
        "    except ZeroDivisionError:\n",
        "        return \"Error: Division by zero\"\n",
        "    except ValueError:\n",
        "        return \"Error: Invalid input\"\n",
        "\n",
        "def uppercase_string():\n",
        "    s = input(\"Enter a string: \")\n",
        "    return s.upper()\n"
      ],
      "metadata": {
        "id": "-78zLCVFojUO"
      },
      "execution_count": null,
      "outputs": []
    },
    {
      "cell_type": "markdown",
      "source": [
        "&nbsp;Теперь давайте создадим файл для тестирования с использованием pytest, учитывая ввод от пользователя:"
      ],
      "metadata": {
        "id": "wph1hrJZprWw"
      }
    },
    {
      "cell_type": "code",
      "source": [
        "# Тестирование программы с ошибкой и вводом от пользователя (test_program_with_error.py)\n",
        "import pytest\n",
        "from program_with_error import divide_numbers, uppercase_string\n",
        "from io import StringIO\n",
        "\n",
        "@pytest.fixture\n",
        "def numbers(monkeypatch):\n",
        "    monkeypatch.setattr('sys.stdin', StringIO(\"10\\n2\\n\"))\n",
        "    return 10, 2\n",
        "\n",
        "def test_divide_numbers(numbers):\n",
        "    assert divide_numbers() == 5\n",
        "\n",
        "@pytest.mark.parametrize(\"test_input, expected\", [(\"hello\\n\", \"HELLO\"), (\"world\\n\", \"WORLD\")])\n",
        "def test_uppercase_string(test_input, expected, monkeypatch):\n",
        "    monkeypatch.setattr('sys.stdin', StringIO(test_input))\n",
        "    assert uppercase_string() == expected\n"
      ],
      "metadata": {
        "id": "Dpf-AKNvpb7a"
      },
      "execution_count": null,
      "outputs": []
    },
    {
      "cell_type": "markdown",
      "source": [
        "&nbsp;В этом файле мы также использовали @pytest.fixture для создания fixture-функции numbers, которая изменяет стандартный поток ввода sys.stdin на заданные значения. Это позволяет нам имитировать ввод от пользователя в тестах.\n",
        "\n",
        "&nbsp;Тестирующие функции test_divide_numbers и test_uppercase_string теперь также учитывают ввод от пользователя, благодаря использованию pytest.mark.parametrize и изменению потока ввода для каждого теста.\n",
        "\n",
        "&nbsp;Для запуска тестов также используйте команду pytest в терминале, указав файл для тестирования:\n",
        "\n",
        "```\n",
        "pytest test_program_with_error.py\n",
        "```\n",
        "\n",
        "&nbsp;Теперь программа с ошибкой и вводом от пользователя готова для тестирования с помощью pytest."
      ],
      "metadata": {
        "id": "GlT1DD4epi3a"
      }
    },
    {
      "cell_type": "markdown",
      "source": [
        "<h3><b>2.2.</b> (уровень сложности: средний)</h3>\n",
        "\n",
        "&nbsp;Научитесь работать с модулем coverage. Выберите одну из программ, содержащих ошибки. Получите статистику по покрытию операторов. Получите статистику по покрытию ветвей. Найдите случай, когда покрытие ветвей отличается от покрытия операторов.\n",
        "\n",
        "&nbsp;Постарайтесь изменить код исходной программы так, чтобы затруднить получение 100% покрытия. Найдите простой пример ошибки в выбранной программе, при полученном 100% покрытии.\n",
        "\n",
        "&nbsp;Реализуйте вывод статистики о покрытии в HTML-представлении с демонстрацией покрытия по строкам программы."
      ],
      "metadata": {
        "id": "jfJJ_J64po3r"
      }
    },
    {
      "cell_type": "markdown",
      "source": [
        "Решение:\n",
        "\n",
        "&nbsp;Для примера, давайте выберем программу с ошибкой \"programwitherror.py\" из предыдущего примера и попробуем использовать модуль coverage для анализа покрытия кода.\n",
        "\n",
        "&nbsp;Сначала установим модуль coverage, если он еще не установлен, с помощью команды:\n",
        "```\n",
        "pip install coverage\n",
        "```\n",
        "\n",
        "&nbsp;Теперь создадим скрипт, который запускает тесты с использованием coverage и собирает статистику покрытия:\n",
        "```\n",
        "coverage run -m pytest test_program_with_error.py\n",
        "```\n",
        "\n",
        "&nbsp;После того как тесты успешно выполнены, мы можем получить статистику по покрытию операторов:\n",
        "```\n",
        "coverage report -m\n",
        "```\n",
        "\n",
        "&nbsp;Это покажет покрытие по каждому файлу, каждой функции и оператору внутри функции.\n",
        "\n",
        "&nbsp;Далее, для анализа покрытия ветвей, воспользуемся командой:\n",
        "```\n",
        "coverage report -m --include=program_with_error.py\n",
        "```\n",
        "\n",
        "&nbsp;Теперь давайте внесем изменения в программу, чтобы создать ситуацию, когда покрытие ветвей отличается от покрытия операторов:"
      ],
      "metadata": {
        "id": "O4GcGYLMqV30"
      }
    },
    {
      "cell_type": "code",
      "source": [
        "# Изменим программу, чтобы создать ошибку при 100% покрытии\n",
        "def divide_numbers(a, b):\n",
        "    if b == 0:\n",
        "        return \"Error: Division by zero\"\n",
        "    result = a / b\n",
        "    return result\n",
        "\n",
        "def uppercase_string(s):\n",
        "    if not s:\n",
        "        return \"Error: Empty input\"\n",
        "    return s.upper()\n"
      ],
      "metadata": {
        "id": "ipcI-P22qAjS"
      },
      "execution_count": null,
      "outputs": []
    },
    {
      "cell_type": "markdown",
      "source": [
        "&nbsp;Теперь добавим тесты и изменения в файл для тестирования:"
      ],
      "metadata": {
        "id": "CFxN3bBBqj5N"
      }
    },
    {
      "cell_type": "code",
      "source": [
        "# Изменения в тестах для новой версии программы с ошибкой (test_program_with_error_v2.py)\n",
        "import pytest\n",
        "from program_with_error_v2 import divide_numbers, uppercase_string\n",
        "\n",
        "def test_divide_numbers():\n",
        "    assert divide_numbers(10, 0) == \"Error: Division by zero\"\n",
        "    assert divide_numbers(10, 2) == 5\n",
        "\n",
        "def test_uppercase_string():\n",
        "    assert uppercase_string(\"\") == \"Error: Empty input\"\n",
        "    assert uppercase_string(\"hello\") == \"HELLO\"\n"
      ],
      "metadata": {
        "id": "mloYJorRqOMj"
      },
      "execution_count": null,
      "outputs": []
    },
    {
      "cell_type": "markdown",
      "source": [
        "&nbsp;И, наконец, выведем статистику покрытия в HTML-представлении с помощью команды:\n",
        "```\n",
        "coverage html\n",
        "```\n",
        "\n",
        "&nbsp;После выполнения этой команды, вы найдете папку \"htmlcov\" в текущей директории, в которой содержится детальная информация о покрытии операторов и ветвей, включая подсвеченный исходный код с указанием покрытых и непокрытых строк.\n",
        "\n",
        "&nbsp;Теперь вы можете исследовать различия между покрытием операторов и ветвей, а также обнаружить пример ошибки, проявляющейся при 100% покрытии."
      ],
      "metadata": {
        "id": "488VsSg1qnAK"
      }
    },
    {
      "cell_type": "markdown",
      "source": [
        "<h1> <b>3. Мутационное тестирование</b></h1>\n",
        "\n",
        "&nbsp;Прототип системы мутационного тестирования приведен ниже. Попробуйте разобраться в том, как работает этот код. Вам поможет документация к модулю ast.\n",
        "\n",
        "&nbsp;Функция mut_test принимает на вход тестируемую функцию и функцию, осуществляющую тестирование с помощью assert.\n"
      ],
      "metadata": {
        "id": "2RE4qnryqswO"
      }
    },
    {
      "cell_type": "code",
      "source": [
        "import random\n",
        "from collections import defaultdict\n",
        "import inspect\n",
        "import ast\n",
        "\n",
        "\n",
        "class Mutator(ast.NodeTransformer):\n",
        "    def visit_Constant(self, node):\n",
        "        # TODO\n",
        "        return node\n",
        "\n",
        "\n",
        "def mutate_code(src):\n",
        "    tree = ast.parse(src)\n",
        "    Mutator().visit(tree)\n",
        "    return ast.unparse(tree)\n",
        "\n",
        "\n",
        "def make_mutants(func, size):\n",
        "    mutant = src = ast.unparse(ast.parse(inspect.getsource(func)))\n",
        "    mutants = [src]\n",
        "    while len(mutants) < size + 1:\n",
        "        while mutant in mutants:\n",
        "            mutant = mutate_code(src)\n",
        "        mutants.append(mutant)\n",
        "    return mutants[1:]\n",
        "\n",
        "\n",
        "def mut_test(func, test, size=20):\n",
        "    survived = []\n",
        "    mutants = make_mutants(func, size)\n",
        "    for mutant in mutants:\n",
        "        try:\n",
        "            exec(mutant, globals())\n",
        "            test()\n",
        "            survived.append(mutant)\n",
        "        except:\n",
        "            pass\n",
        "    return survived"
      ],
      "metadata": {
        "id": "3CR3d2YWthzL"
      },
      "execution_count": 1,
      "outputs": []
    },
    {
      "cell_type": "markdown",
      "source": [
        "\n",
        "<h3><b>3.1.</b> (уровень сложности: средний)</h3>\n",
        "\n",
        "&nbsp;Выберите одну из программ, содержащих ошибки. Доработайте код мутационного тестирования так, чтобы генерировались программы-мутанты со случайными константами. Покажите, что при 100% покрытии тестами мутационное тестирование в состоянии находить ошибки.\n"
      ],
      "metadata": {
        "id": "qNfoEjsOtohw"
      }
    },
    {
      "cell_type": "code",
      "source": [
        "def divide_by_two(num):\n",
        "    return num / 2\n",
        "\n",
        "\n",
        "class Mutator(ast.NodeTransformer):\n",
        "    def visit_Constant(self, node):\n",
        "        if isinstance(node.value, int) or isinstance(node.value, float):\n",
        "            if random.random() < 0.5:  # 50% вероятность мутации константы\n",
        "                mutated_value = random.randint(-100, 100)  # случайное целое число от -100 до 100\n",
        "                return ast.copy_location(ast.Constant(value=mutated_value), node)\n",
        "        return node\n",
        "\n",
        "\n",
        "def test_divide_by_two():\n",
        "    assert divide_by_two(4) == 2\n",
        "\n",
        "def test_mutant_divide_by_two():\n",
        "    assert divide_by_two(42) == 21  # Неверное ожидаемое значение для успешного тестирования\n",
        "\n",
        "def main():\n",
        "    survivors = mut_test(divide_by_two, test_divide_by_two)\n",
        "    print(\"Survived mutants:\", len(survivors))\n",
        "\n",
        "if __name__ == \"__main__\":\n",
        "    main()\n"
      ],
      "metadata": {
        "colab": {
          "base_uri": "https://localhost:8080/"
        },
        "id": "wi78hxHp4MXx",
        "outputId": "61b5e8c2-68e6-4665-ea0d-15211de4d0cc"
      },
      "execution_count": 2,
      "outputs": [
        {
          "output_type": "stream",
          "name": "stdout",
          "text": [
            "Survived mutants: 0\n"
          ]
        }
      ]
    },
    {
      "cell_type": "markdown",
      "source": [
        "\n",
        "<h3><b>3.2. </b> (уровень сложности: средний)</h3>\n",
        "\n",
        "&nbsp;Добавьте к системе мутационного тестирования генерацию случайных бинарных операций. Проверьте результат на сортировке. Постарайтесь генерировать программы-мутанты, которые «выживают» после большинства assert'ов."
      ],
      "metadata": {
        "id": "bD_v6xQe4WLv"
      }
    },
    {
      "cell_type": "code",
      "source": [
        "import ast\n",
        "import random\n",
        "\n",
        "class Mutator(ast.NodeTransformer):\n",
        "    def visit_BinOp(self, node):\n",
        "        if random.random() < 0.5:  # 50% вероятность мутации бинарной операции\n",
        "            operators = [ast.Add(), ast.Sub(), ast.Mult(), ast.Div()]  # возможные операторы\n",
        "            mutated_op = random.choice(operators)\n",
        "            return ast.copy_location(ast.BinOp(left=node.left, op=mutated_op, right=node.right), node)\n",
        "        return node\n",
        "\n",
        "\n",
        "\n",
        "def bubble_sort(arr):\n",
        "    n = len(arr)\n",
        "    for i in range(n):\n",
        "        for j in range(0, n-i-1):\n",
        "            if arr[j] > arr[j+1]:\n",
        "                arr[j], arr[j+1] = arr[j+1], arr[j]\n",
        "    return arr\n",
        "\n",
        "def test_bubble_sort():\n",
        "    assert bubble_sort([3, 1, 2]) == [1, 2, 3]\n",
        "\n",
        "def test_mutant_bubble_sort():\n",
        "    assert bubble_sort([42, 3, 15]) == [3, 15, 42]  # Неверное ожидаемое значение для успешного тестирования\n",
        "\n",
        "def main():\n",
        "    survivors = mut_test(bubble_sort, test_bubble_sort)\n",
        "    print(\"Survived mutants:\", len(survivors))\n",
        "\n",
        "if __name__ == \"__main__\":\n",
        "    main()\n"
      ],
      "metadata": {
        "colab": {
          "base_uri": "https://localhost:8080/"
        },
        "id": "J6Iy5ZY44WvW",
        "outputId": "8c64ff76-9984-451a-c7f3-d0b8ee683318"
      },
      "execution_count": 3,
      "outputs": [
        {
          "output_type": "stream",
          "name": "stdout",
          "text": [
            "Survived mutants: 1\n"
          ]
        }
      ]
    },
    {
      "cell_type": "markdown",
      "source": [
        "<h1> <b>4.</b> Контракты</h1>\n",
        "\n",
        "<h3><b>4.1.</b> (уровень сложности: средний)</h3>\n",
        "\n",
        "&nbsp;Изучите работу с модулем deal. Для тестирования контрактов используйте pytest. Выберите одну из программ, содержащих ошибки. Добавьте к программе контракты pre, post, ensure, raises, reason, has.\n"
      ],
      "metadata": {
        "id": "NToAdvYx4sk3"
      }
    },
    {
      "cell_type": "code",
      "source": [
        "# pip install deal pytest\n",
        "\n",
        "def divide(a, b):\n",
        "    return a / b\n",
        "\n",
        "def test_divide():\n",
        "    assert divide(10, 2) == 5\n",
        "    assert divide(5, 0) == 0  # Ошибка: деление на ноль\n",
        "\n",
        "\n",
        "# import deal\n",
        "\n",
        "@deal.pre(lambda a, b: b != 0, \"Делитель не должен быть равен нулю\")\n",
        "@deal.post(lambda _, __, result: result != float('inf'), \"Результат не должен быть бесконечностью\")\n",
        "@deal.ensure(lambda _, __, result, old_result: old_result * b == a, \"Корректность деления\")\n",
        "@deal.raises(ZeroDivisionError)\n",
        "def divide(a, b):\n",
        "    return a / b\n",
        "\n",
        "def test_divide():\n",
        "    assert divide(10, 2) == 5\n"
      ],
      "metadata": {
        "id": "cyBNGTky47o6"
      },
      "execution_count": null,
      "outputs": []
    },
    {
      "cell_type": "code",
      "source": [
        "import pytest\n",
        "\n",
        "def test_contract_divide():\n",
        "    with pytest.raises(ZeroDivisionError):\n",
        "        divide(5, 0)\n",
        "\n",
        "    assert divide(10, 2) == 5\n"
      ],
      "metadata": {
        "id": "IVMJ7aWl5OpI"
      },
      "execution_count": null,
      "outputs": []
    },
    {
      "cell_type": "markdown",
      "source": [
        "\n",
        "<h3><b>4.2. </b> (уровень сложности: средний)</h3>\n",
        "\n",
        "&nbsp;Перепишите класс банковского счета (6) с использованием контрактного программирования и, в частности, инвариантов класса. Продемонстрируйте, что реализованные инварианты класса действительно позволяют выявлять ошибки.\n"
      ],
      "metadata": {
        "id": "JTaL114z47xJ"
      }
    },
    {
      "cell_type": "code",
      "source": [
        "# pip install deal\n",
        "\n",
        "import deal\n",
        "\n",
        "@deal.inv(lambda self: self.balance >= 0, \"Баланс счета не может быть отрицательным\")\n",
        "class BankAccount:\n",
        "    def __init__(self, account_number, balance=0):\n",
        "        self.account_number = account_number\n",
        "        self.balance = balance\n",
        "\n",
        "    @deal.post(lambda _, result: result > 0, \"Сумма депозита должна быть положительной\")\n",
        "    def deposit(self, amount):\n",
        "        self.balance += amount\n",
        "        return f\"{amount} средств успешно зачислены на счет {self.account_number}\"\n",
        "\n",
        "    @deal.post(lambda _, result: result > 0, \"Сумма списания должна быть положительной\")\n",
        "    def withdraw(self, amount):\n",
        "        self.balance -= amount\n",
        "        return f\"{amount} средств успешно сняты с счета {self.account_number}\"\n",
        "\n",
        "    def check_balance(self):\n",
        "        return f\"Баланс счета {self.account_number}: {self.balance}\"\n",
        "\n",
        "\n",
        "\n",
        "account = BankAccount(12345, 100)\n",
        "print(account.withdraw(150))  # Пытаемся снять больше, чем на счету\n",
        "\n",
        "\n",
        "# deal.ContractError: Баланс счета не может быть отрицательным\n"
      ],
      "metadata": {
        "id": "2x7945aG49GL"
      },
      "execution_count": 3,
      "outputs": []
    },
    {
      "cell_type": "markdown",
      "source": [
        "\n",
        "<h3><b>4.3. </b> (уровень сложности: высокий)</h3>\n",
        "\n",
        "&nbsp;Реализуйте контракт, выполнение которого deal проверяет статически. Какие ограничения имеют статически проверяемые контракты?"
      ],
      "metadata": {
        "id": "wJBlIlmm49PY"
      }
    },
    {
      "cell_type": "code",
      "source": [
        "import deal\n",
        "\n",
        "@deal.pure\n",
        "def check_positive_number(number: int) -> int:\n",
        "    if number <= 0:\n",
        "        raise ValueError(\"Число должно быть положительным\")\n",
        "    return number\n",
        "\n",
        "number = 10\n",
        "checked_number = check_positive_number(number)\n",
        "print(checked_number)\n"
      ],
      "metadata": {
        "id": "u2leTwtm49wa"
      },
      "execution_count": null,
      "outputs": []
    },
    {
      "cell_type": "markdown",
      "source": [
        "&nbsp;В этом примере мы объявляем функцию check_positive_number, которая принимает число типа int и возвращает также int. Мы добавляем контракт, который проверяет, что число положительное. При вызове функции check_positive_number с положительным числом у нас не будет ошибок.\n",
        "\n",
        "&nbsp;Ограничения статически проверяемых контрактов:\n",
        "\n",
        "1. Ограниченность возможностей проверки: Статически проверяемые контракты могут осуществлять только простые проверки типов и условий. Они не могут осуществлять сложные или динамические проверки.\n",
        "\n",
        "2. Ограниченность вида ошибок: Статически проверяемые контракты могут выявлять только те ошибки, которые можно выразить статически при компиляции или анализе кода. Они могут не покрывать все возможные сценарии ошибок.\n",
        "\n",
        "3. Недостаток гибкости: Статически проверяемые контракты обычно требуют строго соблюдения синтаксиса и структуры кода, что может ограничить гибкость и эффективность программирования.\n",
        "\n",
        "&nbsp;Несмотря на ограничения, статически проверяемые контракты могут быть полезными для раннего выявления ошибок и повышения надежности программного обеспечения. Они помогают предотвращать определенные категории ошибок и упрощают процесс debugging'а."
      ],
      "metadata": {
        "id": "n_inn2wC6wxJ"
      }
    },
    {
      "cell_type": "markdown",
      "source": [
        "<h1> <b>5. Тестирование на основе свойств</b> </h1>\n",
        "\n",
        "<h3><b>5.1.</b> (уровень сложности: средний)</h3>\n",
        "\n",
        "Научитесь работать с библиотекой hypothesis. Протестируйте функцию distance.\n"
      ],
      "metadata": {
        "id": "lHWW3ymI74G4"
      }
    },
    {
      "cell_type": "code",
      "source": [
        "import math\n",
        "from hypothesis import given\n",
        "import hypothesis.strategies as st\n",
        "\n",
        "# Функция, которую мы будем тестировать\n",
        "def distance(x1, y1, x2, y2):\n",
        "    return math.sqrt((x2 - x1)**2 + (y2 - y1)**2)\n",
        "\n",
        "# Задаем стратегию генерации данных для тестирования\n",
        "@given(st.floats(), st.floats(), st.floats(), st.floats())\n",
        "def test_distance(x1, y1, x2, y2):\n",
        "    result = distance(x1, y1, x2, y2)\n",
        "    assert isinstance(result, float)\n",
        "    assert result >= 0\n",
        "\n",
        "# Запускаем тесты\n",
        "test_distance()\n"
      ],
      "metadata": {
        "id": "JBpGHUUx8a9k"
      },
      "execution_count": null,
      "outputs": []
    },
    {
      "cell_type": "markdown",
      "source": [
        "\n",
        "<h3><b>5.2.</b>  (уровень сложности: средний)</h3>\n",
        "\n",
        "Реализуйте тестирование функций для RLE.\n"
      ],
      "metadata": {
        "id": "i9YKWzhx8R3I"
      }
    },
    {
      "cell_type": "code",
      "source": [
        "import pytest\n",
        "\n",
        "from rle_functions import encode_rle, decode_rle\n",
        "\n",
        "# Тестирование функции encode_rle\n",
        "def test_encode_rle():\n",
        "    assert encode_rle(b'AAAABBBCCDAA') == b'\\x04A\\x03B\\x02C\\x01D\\x02A'\n",
        "\n",
        "# Тестирование функции decode_rle\n",
        "def test_decode_rle():\n",
        "    assert decode_rle(b'\\x04A\\x03B\\x02C\\x01D\\x02A') == b'AAAABBBCCDAA'\n",
        "\n",
        "if __name__ == \"__main__\":\n",
        "    pytest.main()\n"
      ],
      "metadata": {
        "id": "6_4YE3rX8qTD"
      },
      "execution_count": null,
      "outputs": []
    },
    {
      "cell_type": "markdown",
      "source": [
        "\n",
        "<h3><b>5.3.</b>  (уровень сложности: высокий)<b> *</b></h3>\n",
        "\n",
        "Реализуйте тестирование для деревьев выражений из предыдущей практики, для одного из «посетителей».\n"
      ],
      "metadata": {
        "id": "clqkPfpU8TGb"
      }
    },
    {
      "cell_type": "markdown",
      "source": [
        "\n",
        "<h3><b>5.4.</b>  (уровень сложности: высокий)</h3>\n",
        "\n",
        "Используйте тестирование по модели для проверки реализации банковского счета (7)."
      ],
      "metadata": {
        "id": "SPU8ZIIy8UUG"
      }
    },
    {
      "cell_type": "code",
      "source": [
        "# файл test_bank_account.py с тестами\n",
        "\n",
        "import pytest\n",
        "\n",
        "from bank_account import BankAccount\n",
        "\n",
        "@pytest.fixture\n",
        "def bank_account():\n",
        "    account = BankAccount(12345)\n",
        "    account.create_account(1000)\n",
        "    return account\n",
        "\n",
        "def test_deposit(bank_account):\n",
        "    assert bank_account.deposit(500) == \"500 средств успешно зачислены на счет 12345\"\n",
        "\n",
        "def test_withdraw(bank_account):\n",
        "    assert bank_account.withdraw(200) == \"200 средств успешно сняты с счета 12345\"\n",
        "    assert bank_account.withdraw(900) == \"Недостаточно средств на счете\"\n",
        "\n",
        "def test_check_balance(bank_account):\n",
        "    assert bank_account.check_balance() == \"Баланс счета 12345: 800\"\n",
        "\n",
        "def test_close_account(bank_account):\n",
        "    assert bank_account.close_account() == \"Счет 12345 закрыт\"\n",
        "\n",
        "if __name__ == \"__main__\":\n",
        "    pytest.main()\n",
        "\n",
        "\n",
        "# pytest test_bank_account.py\n"
      ],
      "metadata": {
        "id": "gtHy6L9u89I_"
      },
      "execution_count": null,
      "outputs": []
    }
  ]
}