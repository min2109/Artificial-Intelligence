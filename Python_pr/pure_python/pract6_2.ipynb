{
  "nbformat": 4,
  "nbformat_minor": 0,
  "metadata": {
    "colab": {
      "provenance": []
    },
    "kernelspec": {
      "name": "python3",
      "display_name": "Python 3"
    },
    "language_info": {
      "name": "python"
    }
  },
  "cells": [
    {
      "cell_type": "markdown",
      "source": [
        "# 4. Комбинаторы регулярных выражений\n",
        "Реализуйте простой встроенный язык подмножества регулярных выражений с помощью ФВП. Комбинаторы имеют следующий общий вид:\n",
        "```\n",
        "def comb(param, ...):\n",
        "    def parse(text, ...):\n",
        "        ...\n",
        "        return new_text, ...\n",
        "    return parse\n",
        "  ```"
      ],
      "metadata": {
        "id": "tYqAIi3FTKKJ"
      }
    },
    {
      "cell_type": "code",
      "source": [
        "def char(c):\n",
        "    def parse(text, pos):\n",
        "        if pos >= len(text) or text[pos] != c:\n",
        "            return text, pos\n",
        "        return text, pos + 1\n",
        "    return parse\n",
        "\n",
        "def seq(*parsers):\n",
        "    def parse(text, pos):\n",
        "        for p in parsers:\n",
        "            text, pos = p(text, pos)\n",
        "            if pos == -1:\n",
        "                return text, pos\n",
        "        return text, pos\n",
        "    return parse\n",
        "\n",
        "def alt(*parsers):\n",
        "    def parse(text, pos):\n",
        "        for p in parsers:\n",
        "            new_text, new_pos = p(text, pos)\n",
        "            if new_pos != -1:\n",
        "                return new_text, new_pos\n",
        "        return text, -1\n",
        "    return parse\n",
        "\n",
        "def rep(p):\n",
        "    def parse(text, pos):\n",
        "        while pos < len(text):\n",
        "            text, pos = p(text, pos)\n",
        "        return text, pos\n",
        "    return parse\n",
        "\n",
        "def opt(p):\n",
        "    def parse(text, pos):\n",
        "        new_text, new_pos = p(text, pos)\n",
        "        return new_text, new_pos if new_pos != -1 else pos\n",
        "    return parse\n",
        "\n",
        "\n",
        "parse_a = char('a')\n",
        "parse_b = char('b')\n",
        "\n",
        "parser = seq(rep(parse_a), opt(parse_b))\n",
        "\n",
        "result = parser(\"aaabbaa\", 0)\n",
        "if result[1] == -1:\n",
        "    print(\"Failed to parse\")\n",
        "else:\n",
        "    print(\"Parsed successfully\")\n"
      ],
      "metadata": {
        "id": "cXQj7RiVTgSa"
      },
      "execution_count": null,
      "outputs": []
    },
    {
      "cell_type": "markdown",
      "source": [
        "## 4.1. (уровень сложности: высокий)\n",
        "\n",
        "Реализуйте комбинаторы sym (разобрать символ) и seq (разобрать последовательность).\n",
        "\n",
        "Пример использования:\n",
        "\n",
        "```\n",
        "text = 'abc'\n",
        "re1 = seq(sym('a'), sym('b'), sym('c'))\n",
        "re2 = seq(sym('a'), sym('z'), sym('c'))\n",
        "\n",
        "print(re1(text) is not None)\n",
        "print(re2(text) is not None)\n",
        "\n",
        "```\n",
        "\n",
        "```\n",
        "True\n",
        "False\n",
        "```"
      ],
      "metadata": {
        "id": "e9SF8oSNTjiy"
      }
    },
    {
      "cell_type": "code",
      "source": [
        "def sym(c):\n",
        "    def parse(text, pos):\n",
        "        if pos < len(text) and text[pos] == c:\n",
        "            return pos + 1\n",
        "        return None\n",
        "    return parse\n",
        "\n",
        "def seq(*parsers):\n",
        "    def parse(text, pos):\n",
        "        for p in parsers:\n",
        "            pos = p(text, pos)\n",
        "            if pos is None:\n",
        "                return None\n",
        "        return pos\n",
        "    return parse\n",
        "\n",
        "text = 'abc'\n",
        "re1 = seq(sym('a'), sym('b'), sym('c'))\n",
        "re2 = seq(sym('a'), sym('z'), sym('c'))\n",
        "\n",
        "print(re1(text) is not None)\n",
        "print(re2(text) is not None)\n"
      ],
      "metadata": {
        "id": "YCbRHc1eT05y"
      },
      "execution_count": null,
      "outputs": []
    },
    {
      "cell_type": "markdown",
      "source": [
        "## 4.2. (уровень сложности: средний)\n",
        "\n",
        "Реализуйте комбинатор range_of (разобрать диапазон символов).\n",
        "\n",
        "Пример использования:\n",
        "\n",
        "```\n",
        "digit = range_of('0', '9')\n",
        "number = seq(digit, digit)\n",
        "\n",
        "print(number('42') is not None)\n",
        "print(number('ab') is not None)\n",
        "```\n",
        "\n",
        "```\n",
        "True\n",
        "False\n",
        "```"
      ],
      "metadata": {
        "id": "1xgDVKVhT_0k"
      }
    },
    {
      "cell_type": "code",
      "source": [
        "def range_of(start, end):\n",
        "    def parse(text, pos):\n",
        "        if pos < len(text) and start <= text[pos] <= end:\n",
        "            return pos + 1\n",
        "        return None\n",
        "    return parse\n",
        "\n",
        "def seq(*parsers):\n",
        "    def parse(text, pos):\n",
        "        for p in parsers:\n",
        "            pos = p(text, pos)\n",
        "            if pos is None:\n",
        "                return None\n",
        "        return pos\n",
        "    return parse\n",
        "\n",
        "digit = range_of('0', '9')\n",
        "number = seq(digit, digit)\n",
        "\n",
        "print(number('42') is not None)\n",
        "print(number('ab') is not None)\n"
      ],
      "metadata": {
        "id": "NAeqzGskUO3A"
      },
      "execution_count": null,
      "outputs": []
    },
    {
      "cell_type": "markdown",
      "source": [
        "## 4.3. (уровень сложности: высокий)\n",
        "\n",
        "Реализуйте комбинатор alt (альтернатива).\n",
        "\n",
        "Пример использования:\n",
        "\n",
        "```\n",
        "digit = range_of('0', '9')\n",
        "hex_digit = alt(digit, range_of('a', 'f'), range_of('A', 'F'))\n",
        "space = alt(sym(' '), sym('\\n'), sym('\\t'))\n",
        "hex_color = seq(sym('#'), hex_digit, hex_digit, hex_digit, hex_digit, hex_digit, hex_digit)\n",
        "\n",
        "print(hex_color('#ffaa43') is not None)\n",
        "print(hex_color('#xxxxxx') is not None)\n",
        "```\n",
        "\n",
        "```\n",
        "True\n",
        "False\n",
        "```"
      ],
      "metadata": {
        "id": "0dUkKszSUOaZ"
      }
    },
    {
      "cell_type": "code",
      "source": [
        "def alt(*parsers):\n",
        "    def parse(text, pos):\n",
        "        for p in parsers:\n",
        "            new_pos = p(text, pos)\n",
        "            if new_pos is not None:\n",
        "                return new_pos\n",
        "        return None\n",
        "    return parse\n",
        "\n",
        "def range_of(start, end):\n",
        "    def parse(text, pos):\n",
        "        if pos < len(text) and start <= text[pos] <= end:\n",
        "            return pos + 1\n",
        "        return None\n",
        "    return parse\n",
        "\n",
        "def sym(char):\n",
        "    def parse(text, pos):\n",
        "        if pos < len(text) and text[pos] == char:\n",
        "            return pos + 1\n",
        "        return None\n",
        "    return parse\n",
        "\n",
        "def seq(*parsers):\n",
        "    def parse(text, pos):\n",
        "        for p in parsers:\n",
        "            pos = p(text, pos)\n",
        "            if pos is None:\n",
        "                return None\n",
        "        return pos\n",
        "    return parse\n",
        "\n",
        "digit = range_of('0', '9')\n",
        "hex_digit = alt(digit, range_of('a', 'f'), range_of('A', 'F'))\n",
        "space = alt(sym(' '), sym('\\n'), sym('\\t'))\n",
        "hex_color = seq(sym('#'), hex_digit, hex_digit, hex_digit, hex_digit, hex_digit, hex_digit)\n",
        "\n",
        "print(hex_color('#ffaa43') is not None)\n",
        "print(hex_color('#xxxxxx') is not None)\n"
      ],
      "metadata": {
        "id": "ItyIqUdjUVko"
      },
      "execution_count": null,
      "outputs": []
    },
    {
      "cell_type": "markdown",
      "source": [
        "## 4.4. (уровень сложности: высокий)\n",
        "\n",
        "Реализуйте комбинатор group (группировка) для извлечения разобранных фрагментов.\n",
        "\n",
        "Пример использования:\n",
        "\n",
        "```\n",
        "digit = range_of('0', '9')\n",
        "hex_digit = alt(digit, range_of('a', 'f'), range_of('A', 'F'))\n",
        "space = alt(sym(' '), sym('\\n'), sym('\\t'))\n",
        "hex_color = seq(sym('#'), group(seq(hex_digit, hex_digit, hex_digit, hex_digit, hex_digit, hex_digit)))\n",
        "hex_colors = seq(hex_color, sym(' '), hex_color)\n",
        "\n",
        "print(hex_colors('#ffaa43 #123456', []))\n",
        "```\n",
        "\n",
        "```\n",
        "('', ['ffaa43', '123456'])\n",
        "```"
      ],
      "metadata": {
        "id": "5e5BMRqdUtd6"
      }
    },
    {
      "cell_type": "code",
      "source": [
        "def group(rule):\n",
        "    def inner(text, start):\n",
        "        result, end = rule(text, start)\n",
        "        if result:\n",
        "            return ([result], end)\n",
        "        return (result, end)\n",
        "    return inner\n",
        "\n",
        "def alt(*args):\n",
        "    pass\n",
        "\n",
        "def range_of(start, end):\n",
        "    pass\n",
        "\n",
        "def sym(char):\n",
        "    pass\n",
        "\n",
        "def seq(*args):\n",
        "    pass\n",
        "\n",
        "digit = range_of('0', '9')\n",
        "hex_digit = alt(digit, range_of('a', 'f'), range_of('A', 'F'))\n",
        "space = alt(sym(' '), sym('\\n'), sym('\\t'))\n",
        "hex_color = seq(sym('#'), group(seq(hex_digit, hex_digit, hex_digit, hex_digit, hex_digit, hex_digit)))\n",
        "hex_colors = seq(hex_color, sym(' '), hex_color)\n",
        "\n",
        "def parse_hex_colors(text, start):\n",
        "    result, end = hex_colors(text, start)\n",
        "    return ('', result)\n",
        "\n",
        "print(parse_hex_colors('#ffaa43 #123456', 0))"
      ],
      "metadata": {
        "id": "zZylVbQsUtop"
      },
      "execution_count": null,
      "outputs": []
    }
  ]
}