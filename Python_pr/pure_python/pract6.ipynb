{
  "nbformat": 4,
  "nbformat_minor": 0,
  "metadata": {
    "colab": {
      "provenance": []
    },
    "kernelspec": {
      "name": "python3",
      "display_name": "Python 3"
    },
    "language_info": {
      "name": "python"
    }
  },
  "cells": [
    {
      "cell_type": "markdown",
      "source": [],
      "metadata": {
        "id": "8qk_cEKUIPvI"
      }
    },
    {
      "cell_type": "markdown",
      "source": [
        "1.1. (уровень сложности: низкий)\n",
        "\n",
        "Напишите функцию deriv для приближенного вычисления производной в заданной точке.\n",
        "\n",
        "Пример работы:\n",
        "\n",
        ">>> deriv(lambda x: x ** 3)(5)\n",
        "75.00014999664018"
      ],
      "metadata": {
        "id": "mbqqXVgBIP12"
      }
    },
    {
      "cell_type": "code",
      "source": [
        "def deriv(f, h=0.0001):\n",
        "    def fprime(x):\n",
        "        return (f(x + h) - f(x)) / h\n",
        "    return fprime\n",
        "\n",
        "result = deriv(lambda x: x ** 3)(5)\n",
        "print(result)"
      ],
      "metadata": {
        "colab": {
          "base_uri": "https://localhost:8080/"
        },
        "id": "5R7Z_UnUdhxT",
        "outputId": "22b102a0-76ca-4da9-bac9-05306bfa3e66"
      },
      "execution_count": null,
      "outputs": [
        {
          "output_type": "stream",
          "name": "stdout",
          "text": [
            "75.00150000979033\n"
          ]
        }
      ]
    },
    {
      "cell_type": "markdown",
      "source": [
        "1.2. (уровень сложности: средний)\n",
        "\n",
        "Создайте вариант именованного кортежа с помощью ФВП. Классы и готовые структуры данных (словари, кортежи и так далее) использовать нельзя.\n",
        "\n",
        "Примеры работы:\n",
        "\n",
        ">>> p1 = person(name='Иван', age=20)\n",
        ">>> p2 = replace(replace(p1, 'name', 'Алексей'), 'age', 21)\n",
        ">>> get(p1, 'name'), get(p1, 'age')\n",
        "('Иван', 20)\n",
        ">>> get(p2, 'name'), get(p2, 'age')\n",
        "('Алексей', 21)"
      ],
      "metadata": {
        "id": "dy8S8yVVdlHC"
      }
    },
    {
      "cell_type": "code",
      "source": [
        "def person(**kwargs):\n",
        "    def get(obj, key):\n",
        "        return obj[\"data\"][key] if key in obj[\"data\"] else None\n",
        "\n",
        "    def replace(obj, name, new_value):\n",
        "        obj[name] = new_value\n",
        "        return obj\n",
        "\n",
        "    return {\n",
        "        \"data\": kwargs,\n",
        "        \"get\": get,\n",
        "        \"replace\": replace,\n",
        "    }\n",
        "\n",
        "# Примеры использования\n",
        "p1 = person(name=\"Иван\", age=20)\n",
        "p2 = person(replace(p1, 'name', 'Алексей'), 'age', 21)\n",
        "\n",
        "print(person.get(p1, \"name\"), person.get(p1, \"age\"))\n",
        "print(person.get(p2, \"name\"), person.get(p2, \"age\"))"
      ],
      "metadata": {
        "id": "E9hwDqbnd4m-"
      },
      "execution_count": null,
      "outputs": []
    },
    {
      "cell_type": "markdown",
      "source": [
        "1.3. (уровень сложности: низкий)\n",
        "\n",
        "Реализуйте рекурсивное вычисление факториала в виде выражения. Необходимо это сделать без использования именованных функций, переменных (в том числе без имени факториала) и присваиваний."
      ],
      "metadata": {
        "id": "tmSseIz0fFp1"
      }
    },
    {
      "cell_type": "code",
      "source": [
        "(lambda f: (lambda x: f(lambda k: x(x)(k)))(lambda x: f(lambda k: x(x)(k)))(lambda f: lambda n: 1 if n == 0 else n * f(f)(n - 1))(10)\n"
      ],
      "metadata": {
        "id": "Pu4YfPrbfID8"
      },
      "execution_count": null,
      "outputs": []
    },
    {
      "cell_type": "markdown",
      "source": [
        "1.4. (уровень сложности: низкий)\n",
        "\n",
        "Создайте декоратор io, который задает функции для получения входных аргументов и вовращения результата.\n",
        "\n",
        "Примеры:\n",
        "\n",
        "@io(input, input, input, print)\n",
        "def f1(x, y, z):\n",
        "    return x + y + z\n",
        "\n",
        ">>> f1()\n",
        "one\n",
        "two\n",
        "three\n",
        "onetwothree\n",
        "@io(lambda: random.random(), lambda: random.random(), lambda x: x)\n",
        "def f2(x, y):\n",
        "    return x * y\n",
        "\n",
        ">>> f2()\n",
        "0.19896827110422532"
      ],
      "metadata": {
        "id": "KK6uall7fPKg"
      }
    },
    {
      "cell_type": "code",
      "source": [
        "import random\n",
        "\n",
        "def io(*inputs_and_output):\n",
        "    def decorator(func):\n",
        "        def wrapper(*args):\n",
        "            input_values = [input_func() for input_func in inputs_and_output[:-1]]\n",
        "            result = func(*input_values)\n",
        "            output_func = inputs_and_output[-1]\n",
        "            output_func(result)\n",
        "        return wrapper\n",
        "    return decorator\n",
        "\n",
        "@io(input, input, input, print)\n",
        "def f1(x, y, z):\n",
        "    return x + y + z\n",
        "\n",
        "@io(lambda: random.random(), lambda: random.random(), lambda x: x)\n",
        "def f2(x, y):\n",
        "    return x * y\n"
      ],
      "metadata": {
        "id": "w3QZ56vAfYJt"
      },
      "execution_count": null,
      "outputs": []
    },
    {
      "cell_type": "markdown",
      "source": [
        "1.5. (уровень сложности: низкий)\n",
        "\n",
        "Создайте декоратор класса @collect, который собирает все создаваемые объекты класса в единый список. К классу добавляется метод get_objects, который выдает этот список.\n",
        "\n",
        "Пример:\n",
        "\n",
        "@collect\n",
        "class C1:\n",
        "    pass\n",
        "\n",
        "a = C1()\n",
        "b = C1()\n",
        "c = C1()\n",
        "\n",
        ">>> C1.get_objects()\n",
        "[<__main__.MyClass object at 0x00000259EDC10750>, <__main__.MyClass object at 0x00000259EDC968D0>, <__main__.MyClass object at 0x00000259EDC96910>]"
      ],
      "metadata": {
        "id": "wwl2elzTfYzf"
      }
    },
    {
      "cell_type": "code",
      "source": [
        "def collect(cls):\n",
        "    cls._objects = []\n",
        "\n",
        "    def wrapper(*args, **kwargs):\n",
        "        obj = cls.__new__(cls)\n",
        "        obj.__init__(*args, **kwargs)\n",
        "        cls._objects.append(obj)\n",
        "        return obj\n",
        "\n",
        "    cls.__new__ = wrapper\n",
        "\n",
        "    def get_objects():\n",
        "        return cls._objects\n",
        "\n",
        "    cls.get_objects = get_objects\n",
        "\n",
        "    return cls\n",
        "\n",
        "@collect\n",
        "class MyClass:\n",
        "    pass\n"
      ],
      "metadata": {
        "id": "UCgAoUI-fayQ"
      },
      "execution_count": null,
      "outputs": []
    },
    {
      "cell_type": "markdown",
      "source": [
        "2. Работа со списками в функциональном стиле\n",
        "Создайте тип данных односвязный список с помощью ФВП. При создании списка нельзя использовать классы, готовые списки, кортежи и так далее.\n",
        "\n",
        "Добавьте ряд операций в функциональном стиле."
      ],
      "metadata": {
        "id": "e9gGE6BufgsU"
      }
    },
    {
      "cell_type": "code",
      "source": [
        "def create_node(value):\n",
        "    return {\"value\": value, \"next\": None}\n",
        "\n",
        "def prepend(node, value):\n",
        "    new_node = create_node(value)\n",
        "    new_node[\"next\"] = node\n",
        "    return new_node\n",
        "\n",
        "def append(node, value):\n",
        "    if node is None:\n",
        "        return create_node(value)\n",
        "\n",
        "    current = node\n",
        "    while current[\"next\"] is not None:\n",
        "        current = current[\"next\"]\n",
        "\n",
        "    current[\"next\"] = create_node(value)\n",
        "    return node\n",
        "\n",
        "def find(node, value):\n",
        "    current = node\n",
        "    while current is not None:\n",
        "        if current[\"value\"] == value:\n",
        "            return current\n",
        "        current = current[\"next\"]\n",
        "    return None\n",
        "\n",
        "def print_list(node):\n",
        "    current = node\n",
        "    while current is not None:\n",
        "        print(current[\"value\"], end=\" \")\n",
        "        current = current[\"next\"]\n",
        "    print()\n",
        "\n",
        "# Пример использования\n",
        "my_list = None\n",
        "my_list = prepend(my_list, 3)\n",
        "my_list = prepend(my_list, 2)\n",
        "my_list = append(my_list, 4)\n",
        "my_list = append(my_list, 5)\n",
        "print_list(my_list)\n",
        "\n",
        "# Поиск элемента\n",
        "element = find(my_list, 4)\n",
        "if element:\n",
        "    print(\"Found:\", element[\"value\"])\n",
        "else:\n",
        "    print(\"Not Found\")\n"
      ],
      "metadata": {
        "colab": {
          "base_uri": "https://localhost:8080/"
        },
        "id": "M4hUSOGffpvp",
        "outputId": "9836159b-9dff-45f8-d0f5-8f6933d9f9b9"
      },
      "execution_count": null,
      "outputs": [
        {
          "output_type": "stream",
          "name": "stdout",
          "text": [
            "2 3 4 5 \n",
            "Found: 4\n"
          ]
        }
      ]
    },
    {
      "cell_type": "markdown",
      "source": [
        "2.1. (уровень сложности: высокий)\n",
        "\n",
        "Создайте функцию pair(head, tail), которая порождает элемент списка. Не используйте ветвления. Создайте также функции head(lst) (возвращает значение головы списка) и tail(lst) (возвращает хвост списка)."
      ],
      "metadata": {
        "id": "pf-dUlM1fg3b"
      }
    },
    {
      "cell_type": "code",
      "source": [
        "# Функция pair создает элемент списка\n",
        "def pair(value, next_node=None):\n",
        "    return lambda selector: value if selector == \"value\" else next_node\n",
        "\n",
        "# Функция head возвращает значение головы списка\n",
        "def head(lst):\n",
        "    return lst(\"value\")\n",
        "\n",
        "# Функция tail возвращает хвост списка\n",
        "def tail(lst):\n",
        "    return lst(\"tail\")\n",
        "\n",
        "# Пример использования\n",
        "list_node = pair(1, pair(2, pair(3, pair(4))))\n",
        "print(\"Head node value:\", head(list_node))\n",
        "\n",
        "tail_node = tail(list_node)\n",
        "print(\"Tail node value:\", head(tail_node))\n"
      ],
      "metadata": {
        "colab": {
          "base_uri": "https://localhost:8080/"
        },
        "id": "IxEnyOVzfqEF",
        "outputId": "b96ddc21-59a3-4159-bcb8-17e9084ad1c9"
      },
      "execution_count": null,
      "outputs": [
        {
          "output_type": "stream",
          "name": "stdout",
          "text": [
            "Head node value: 1\n",
            "Tail node value: 2\n"
          ]
        }
      ]
    },
    {
      "cell_type": "markdown",
      "source": [
        "2.2. (уровень сложности: средний)\n",
        "\n",
        "Создайте функцию make_list(*args), которая создает список на основе аргументов."
      ],
      "metadata": {
        "id": "xKFQGYXAf5tm"
      }
    },
    {
      "cell_type": "code",
      "source": [
        "def make_list(*args):\n",
        "    if not args:\n",
        "        return None\n",
        "\n",
        "    def pair(value, next_node=None):\n",
        "        return lambda selector: value if selector == \"value\" else next_node\n",
        "\n",
        "    list_node = None\n",
        "    current_node = None\n",
        "\n",
        "    for arg in reversed(args):\n",
        "        if list_node is None:\n",
        "            list_node = pair(arg)\n",
        "            current_node = list_node\n",
        "        else:\n",
        "            new_node = pair(arg, current_node)\n",
        "            current_node = new_node\n",
        "\n",
        "    return current_node\n",
        "\n",
        "# Пример использования\n",
        "my_list = make_list(1, 2, 3, 4, 5)\n",
        "current_node = my_list\n",
        "\n",
        "while current_node:\n",
        "    print(current_node(\"value\"))\n",
        "    current_node = current_node(\"tail\")\n"
      ],
      "metadata": {
        "colab": {
          "base_uri": "https://localhost:8080/"
        },
        "id": "7emGj6l4f5_v",
        "outputId": "671f1613-5236-4573-c8c5-224b23d22a45"
      },
      "execution_count": null,
      "outputs": [
        {
          "output_type": "stream",
          "name": "stdout",
          "text": [
            "1\n",
            "2\n",
            "3\n",
            "4\n",
            "5\n"
          ]
        }
      ]
    }
  ]
}