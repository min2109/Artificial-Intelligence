{
  "nbformat": 4,
  "nbformat_minor": 0,
  "metadata": {
    "colab": {
      "provenance": [],
      "authorship_tag": "ABX9TyOIZrtgEjTK4Xq++wHP9oIk"
    },
    "kernelspec": {
      "name": "python3",
      "display_name": "Python 3"
    },
    "language_info": {
      "name": "python"
    }
  },
  "cells": [
    {
      "cell_type": "markdown",
      "source": [
        "<h1> <b> Выполнение рабочей тетради № 4 </b> </h1>"
      ],
      "metadata": {
        "id": "jFoDxcDYHLwq"
      }
    },
    {
      "cell_type": "markdown",
      "source": [
        "<h1> <b>1.</b> Некоторые операции с классами и объектами </h1>\n",
        "<h2> <b>1.1.</b> (уровень сложности: простейший) </h2>\n",
        "\n",
        "Напишите код, который выведет на экране все имена полей объекта произвольного пользовательского класса,\n",
        "кроме служебных имен."
      ],
      "metadata": {
        "id": "GG32iGe_HSgD"
      }
    },
    {
      "cell_type": "code",
      "source": [
        "class Body(object):\n",
        "  def __init__(self,age, len):\n",
        "    self.age = age\n",
        "    self.len = len\n",
        "\n",
        "def main():\n",
        "  Mark = Body(18,186);\n",
        "  print(Mark.age,\", \",Mark.len)\n",
        "\n",
        "main()"
      ],
      "metadata": {
        "colab": {
          "base_uri": "https://localhost:8080/"
        },
        "id": "yWMBB-CdHhAc",
        "outputId": "d7c44511-380d-411a-ce9a-eda522ed3ad5"
      },
      "execution_count": null,
      "outputs": [
        {
          "output_type": "stream",
          "name": "stdout",
          "text": [
            "18 ,  186\n"
          ]
        }
      ]
    },
    {
      "cell_type": "markdown",
      "source": [
        "<h2> <b> 1.2. </b> (уровень сложности: простейший) </h2>\n",
        "\n",
        "Напишите код, который по имени метода, заданному строкой,\n",
        " вызовет этот метод в объекте некоторого пользовательского класса."
      ],
      "metadata": {
        "id": "_9KGdwtPIBbN"
      }
    },
    {
      "cell_type": "code",
      "source": [
        "class Body(object):\n",
        "  def __init__(self,age, len):\n",
        "    self.age = age\n",
        "    self.len = len\n",
        "\n",
        "  def Alive(self):\n",
        "    print(\"This guy is alive. He is \",self.age,\" y. o.\")\n",
        "\n",
        "\n",
        "def main():\n",
        "  Mark = Body(18,186);\n",
        "  Mark.Alive();\n",
        "\n",
        "main()"
      ],
      "metadata": {
        "colab": {
          "base_uri": "https://localhost:8080/"
        },
        "id": "OXZ1ZE2XIjJT",
        "outputId": "64cad16d-c6bf-47aa-c1e0-49a37d137d50"
      },
      "execution_count": null,
      "outputs": [
        {
          "output_type": "stream",
          "name": "stdout",
          "text": [
            "This guy is alive. He is  18  y. o.\n"
          ]
        }
      ]
    },
    {
      "cell_type": "markdown",
      "source": [
        "<h2> <b> 1.3.</b> (уровень сложности: простейший) </h2>\n",
        "\n",
        "С кодом ниже что-то не так. Что именно неправильно и как это исправить?\n",
        "```\n",
        "class A:\n",
        "    pass\n",
        "\n",
        "class B(A):\n",
        "    pass\n",
        "\n",
        "class C(A, B):\n",
        "    pass\n",
        "```"
      ],
      "metadata": {
        "id": "0Fa5ncMJJF22"
      }
    },
    {
      "cell_type": "code",
      "source": [
        "class A:\n",
        "    pass\n",
        "\n",
        "class B(A):\n",
        "    pass\n",
        "\n",
        "class C(B):#here\n",
        "    pass"
      ],
      "metadata": {
        "id": "e_3kF-StJXFM"
      },
      "execution_count": null,
      "outputs": []
    },
    {
      "cell_type": "markdown",
      "source": [
        "<h2> <b> 1.4. </b> (уровень сложности: низкий)</h2>\n",
        "\n",
        "Напишите функцию-однострочник get_inheritance для вывода строки,\n",
        " отражающей иерархию наследования для входного класса.\n",
        "\n",
        "Пример:\n",
        "```\n",
        ">>>print(get_inheritance(OSError))\n",
        "OSError -> Exception -> BaseException -> object\n",
        "```"
      ],
      "metadata": {
        "id": "92Qom1d1LuOh"
      }
    },
    {
      "cell_type": "code",
      "source": [
        "class Car():\n",
        "  pass\n",
        "\n",
        "class Door(Car):\n",
        "  pass\n",
        "\n",
        "class Door_color(Door, Car):\n",
        "  pass\n",
        "\n",
        "def getinheritance(classname):\n",
        "    return f\"{classname.__name__} -> {', '.join([base.__name__ for base in classname.__bases__])}\"\n",
        "\n",
        "print(getinheritance(Door_color))"
      ],
      "metadata": {
        "colab": {
          "base_uri": "https://localhost:8080/"
        },
        "id": "2SIPgCVbMRuO",
        "outputId": "bb5e3a57-f1f2-4afd-9801-4f9faa4b8616"
      },
      "execution_count": null,
      "outputs": [
        {
          "output_type": "stream",
          "name": "stdout",
          "text": [
            "Door_color -> Door, Car\n"
          ]
        }
      ]
    },
    {
      "cell_type": "markdown",
      "source": [
        "<h1> <b> 2. </b>  Своя реализация структуры данных </h1>\n",
        "\n",
        "Реализуйте хэш-таблицу, аналог встроенного dict.\n",
        "\n",
        "Используйте для внутренней реализации список пар ключ-значение.\n",
        "\n",
        "Примените тестирование на случайных данных с использованием assert и оригинального dict.\n",
        "\n",
        "<h2> <b> 2.1. </b> (уровень сложности: средний) </h2>\n",
        "\n",
        "Реализуйте методы чтения, записи и получения размера хэш-таблицы.\n",
        "\n",
        "<h2> <b>2.2.</b> (уровень сложности: низкий)</h2>\n",
        "\n",
        "Реализуйте для методов своей хэш-таблицы тот же интерфейс, что и в dict, включая перегрузку операций.\n",
        "\n",
        "Ссылка на dict - https://pythonru.com/osnovy/python-dict\n",
        "\n",
        "\n",
        "<h2> <b>2.3. </b> (уровень сложности: средний) </h2>\n",
        "\n",
        "Реализуйте поддержку итератора для цикла for. Обязательно протестируйте код на примерах с вложенными циклами!"
      ],
      "metadata": {
        "id": "fCcAyctgNz2v"
      }
    },
    {
      "cell_type": "code",
      "source": [
        "class MyHashTable:\n",
        "    def __init__(self):\n",
        "        self.key_value_pairs = []\n",
        "\n",
        "    def __getitem__(self, key):\n",
        "        for k, v in self.key_value_pairs:\n",
        "            if k == key:\n",
        "                return v\n",
        "        raise KeyError(f\"Key '{key}' not found\")\n",
        "\n",
        "    def __setitem__(self, key, value):\n",
        "        for i, (k, v) in enumerate(self.key_value_pairs):\n",
        "            if k == key:\n",
        "                self.key_value_pairs[i] = (key, value)\n",
        "                return\n",
        "        self.key_value_pairs.append((key, value))\n",
        "\n",
        "    def __len__(self):\n",
        "        return len(self.key_value_pairs)\n",
        "\n",
        "    def __delitem__(self, key):\n",
        "        for i, (k, v) in enumerate(self.key_value_pairs):\n",
        "            if k == key:\n",
        "                del self.key_value_pairs[i]\n",
        "                return\n",
        "        raise KeyError(f\"Key '{key}' not found\")\n",
        "\n",
        "    def __iter__(self):\n",
        "        return iter(self.key_value_pairs)\n",
        "\n",
        "# Тестирование пользовательской хэш-таблицы\n",
        "my_dict = MyHashTable()\n",
        "my_dict[\"name\"] = \"Alice\"\n",
        "my_dict[\"age\"] = 30\n",
        "my_dict[\"city\"] = \"Wonderland\"\n",
        "\n",
        "# Получение значений\n",
        "print(my_dict[\"name\"])  # Вывод: Alice\n",
        "print(my_dict[\"age\"])   # Вывод: 30\n",
        "print(my_dict[\"city\"])  # Вывод: Wonderland\n",
        "\n",
        "# Размер хэш-таблицы\n",
        "print(len(my_dict))     # Вывод: 3\n",
        "\n",
        "# Удаление ключа\n",
        "del my_dict[\"age\"]\n",
        "print(len(my_dict))     # Вывод: 2\n",
        "\n",
        "# Итерация по парам ключ-значение\n",
        "for key, value in my_dict:\n",
        "    print(f\"{key}: {value}\")\n"
      ],
      "metadata": {
        "colab": {
          "base_uri": "https://localhost:8080/"
        },
        "id": "PCKfxmSFPmha",
        "outputId": "376ab09c-81b8-494d-adad-35d3a8bd34c2"
      },
      "execution_count": null,
      "outputs": [
        {
          "output_type": "stream",
          "name": "stdout",
          "text": [
            "Тестирование успешно завершено.\n"
          ]
        }
      ]
    },
    {
      "cell_type": "markdown",
      "source": [
        "<h1> <b> 3.</b> Деревья выражений </h1>\n",
        "\n",
        "Требуется реализовать операции для печати, вычисления арифметических выражений и компиляции выражений в код стековой машины.\n",
        "\n",
        "<h2> <b>3.1.</b> (уровень сложности: низкий)</h2>\n",
        "\n",
        "Реализовать классы узлов дерева: Num, Add и Mul. Эти классы просто хранят данные и ничего не знают о действиях, которые могут производиться над выражениями.\n",
        "\n",
        "Пример, который будет использоваться далее:\n",
        "```\n",
        "ast = Add(Num(7), Mul(Num(3), Num(2)))\n",
        "```"
      ],
      "metadata": {
        "id": "qCsyUaC1Rhg9"
      }
    },
    {
      "cell_type": "code",
      "source": [
        "class Num:\n",
        "    def __init__(self, value):\n",
        "        self.value = value\n",
        "\n",
        "    def print(self):\n",
        "        return str(self.value)\n",
        "\n",
        "    def evaluate(self):\n",
        "        return self.value\n",
        "\n",
        "    def compile(self):\n",
        "        return f\"push {self.value}\\n\"\n",
        "\n",
        "\n",
        "class Add:\n",
        "    def __init__(self, left, right):\n",
        "        self.left = left\n",
        "        self.right = right\n",
        "\n",
        "    def print(self):\n",
        "        return f\"({self.left.print()} + {self.right.print()})\"\n",
        "\n",
        "    def evaluate(self):\n",
        "        return self.left.evaluate() + self.right.evaluate()\n",
        "\n",
        "    def compile(self):\n",
        "        return self.left.compile() + self.right.compile() + \"add\\n\"\n",
        "\n",
        "\n",
        "class Mul:\n",
        "    def __init__(self, left, right):\n",
        "        self.left = left\n",
        "        self.right = right\n",
        "\n",
        "    def print(self):\n",
        "        return f\"({self.left.print()} * {self.right.print()})\"\n",
        "\n",
        "    def evaluate(self):\n",
        "        return self.left.evaluate() * self.right.evaluate()\n",
        "\n",
        "    def compile(self):\n",
        "        return self.left.compile() + self.right.compile() + \"mul\\n\"\n",
        "\n",
        "\n",
        "# Пример использования:\n",
        "ast = Add(Num(7), Mul(Num(3), Num(2)))\n",
        "\n",
        "# Вывод выражения:\n",
        "print(ast.print())\n",
        "\n",
        "# Вычисление значения выражения:\n",
        "print(\"Result:\", ast.evaluate())\n",
        "\n",
        "# Компиляция в код стековой машины:\n",
        "print(\"Compiled code:\")\n",
        "print(ast.compile())\n"
      ],
      "metadata": {
        "colab": {
          "base_uri": "https://localhost:8080/"
        },
        "id": "27bpcyBSR9IC",
        "outputId": "7bd2b573-fe92-433b-ca2f-69f3c7f3fcac"
      },
      "execution_count": null,
      "outputs": [
        {
          "output_type": "stream",
          "name": "stdout",
          "text": [
            "(7 + (3 * 2))\n",
            "Result: 13\n",
            "Compiled code:\n",
            "push 7\n",
            "push 3\n",
            "push 2\n",
            "mul\n",
            "add\n",
            "\n"
          ]
        }
      ]
    },
    {
      "cell_type": "markdown",
      "source": [
        "<h2> <b>3.2.</b> (уровень сложности: средний) </h2>\n",
        "\n",
        "Реализовать класс-посетитель PrintVisitor для печати выражения. Обойтись без перегрузки repr и str, а также без операторов ветвления!\n",
        "\n",
        "Пример:\n",
        "```\n",
        ">>> pv = PrintVisitor()\n",
        ">>> print(pv.visit(ast))\n",
        "(7 + (3 * 2))\n",
        "```\n"
      ],
      "metadata": {
        "id": "pN7wxtJiSXOG"
      }
    },
    {
      "cell_type": "code",
      "source": [
        "class Num:\n",
        "    def __init__(self, value):\n",
        "        self.value = value\n",
        "\n",
        "    def accept(self, visitor):\n",
        "        return visitor.visit_num(self)\n",
        "\n",
        "\n",
        "class Add:\n",
        "    def __init__(self, left, right):\n",
        "        self.left = left\n",
        "        self.right = right\n",
        "\n",
        "    def accept(self, visitor):\n",
        "        return visitor.visit_add(self)\n",
        "\n",
        "\n",
        "class Mul:\n",
        "    def __init__(self, left, right):\n",
        "        self.left = left\n",
        "        self.right = right\n",
        "\n",
        "    def accept(self, visitor):\n",
        "        return visitor.visit_mul(self)\n",
        "\n",
        "\n",
        "class PrintVisitor:\n",
        "    def visit_num(self, node):\n",
        "        return str(node.value)\n",
        "\n",
        "    def visit_add(self, node):\n",
        "        return f\"({node.left.accept(self)} + {node.right.accept(self)})\"\n",
        "\n",
        "    def visit_mul(self, node):\n",
        "        return f\"({node.left.accept(self)} * {node.right.accept(self)})\"\n",
        "\n",
        "\n",
        "# Пример использования:\n",
        "ast = Add(Num(7), Mul(Num(3), Num(2)))\n",
        "\n",
        "pv = PrintVisitor()\n",
        "print(pv.visit_add(ast))"
      ],
      "metadata": {
        "colab": {
          "base_uri": "https://localhost:8080/"
        },
        "id": "pec5gzJNStiT",
        "outputId": "9141efdd-68ed-460a-947c-85f70a669aef"
      },
      "execution_count": null,
      "outputs": [
        {
          "output_type": "stream",
          "name": "stdout",
          "text": [
            "(7 + (3 * 2))\n"
          ]
        }
      ]
    },
    {
      "cell_type": "markdown",
      "source": [
        "<h2> <b>3.3.</b> (уровень сложности: средний)</h2>\n",
        "\n",
        "Реализовать класс-посетитель CalcVisitor для вычисления выражения. Обойтись без eval с exec, а также без операторов ветвления!\n",
        "\n",
        "Пример:\n",
        "```\n",
        ">>> cv = CalcVisitor()\n",
        ">>> print(cv.visit(ast))\n",
        "13\n",
        "```"
      ],
      "metadata": {
        "id": "H9W0p2GzS8pF"
      }
    },
    {
      "cell_type": "code",
      "source": [
        "  class Num:\n",
        "    def __init__(self, value):\n",
        "        self.value = value\n",
        "\n",
        "    def accept(self, visitor):\n",
        "        return visitor.visit_num(self)\n",
        "\n",
        "class Add:\n",
        "    def __init__(self, left, right):\n",
        "        self.left = left\n",
        "        self.right = right\n",
        "\n",
        "    def accept(self, visitor):\n",
        "        return visitor.visit_add(self)\n",
        "\n",
        "\n",
        "class Mul:\n",
        "    def __init__(self, left, right):\n",
        "        self.left = left\n",
        "        self.right = right\n",
        "\n",
        "    def accept(self, visitor):\n",
        "        return visitor.visit_mul(self)\n",
        "\n",
        "\n",
        "class PrintVisitor:\n",
        "    def visit_num(self, node):\n",
        "        return str(node.value)\n",
        "\n",
        "    def visit_add(self, node):\n",
        "        return f\"({node.left.accept(self)} + {node.right.accept(self)})\"\n",
        "\n",
        "    def visit_mul(self, node):\n",
        "        return f\"({node.left.accept(self)} * {node.right.accept(self)})\"\n",
        "\n",
        "\n",
        "class CalcVisitor:\n",
        "    def visit_num(self, node):\n",
        "        return node.value\n",
        "\n",
        "    def visit_add(self, node):\n",
        "        return node.left.accept(self) + node.right.accept(self)\n",
        "\n",
        "    def visit_mul(self, node):\n",
        "        return node.left.accept(self) * node.right.accept(self)\n",
        "\n",
        "\n",
        "# Пример использования:\n",
        "ast = Add(Num(7), Mul(Num(3), Num(2)))\n",
        "\n",
        "# Печать выражения\n",
        "pv = PrintVisitor()\n",
        "print(pv.visit_add(ast))\n",
        "\n",
        "# Вычисление выражения\n",
        "cv = CalcVisitor()\n",
        "print(cv.visit_add(ast))\n"
      ],
      "metadata": {
        "colab": {
          "base_uri": "https://localhost:8080/"
        },
        "id": "fUeTT4M7TCeM",
        "outputId": "38d4dc46-1023-4a04-bafe-b5ddb8390f0f"
      },
      "execution_count": null,
      "outputs": [
        {
          "output_type": "stream",
          "name": "stdout",
          "text": [
            "(7 + (3 * 2))\n",
            "13\n"
          ]
        }
      ]
    }
  ]
}