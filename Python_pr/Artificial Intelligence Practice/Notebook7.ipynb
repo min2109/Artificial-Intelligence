{
  "nbformat": 4,
  "nbformat_minor": 0,
  "metadata": {
    "colab": {
      "provenance": []
    },
    "kernelspec": {
      "name": "python3",
      "display_name": "Python 3"
    },
    "language_info": {
      "name": "python"
    }
  },
  "cells": [
    {
      "cell_type": "markdown",
      "source": [
        "Дисциплина «Искусственный интеллект»\n",
        "\n",
        "Рабочая тетрадь № 7."
      ],
      "metadata": {
        "id": "li3yQRwmvLKa"
      }
    },
    {
      "cell_type": "markdown",
      "source": [
        "**Петрушенко Александр Дмитриевич**"
      ],
      "metadata": {
        "id": "gCAz4S7rvQya"
      }
    },
    {
      "cell_type": "markdown",
      "source": [
        "Готова"
      ],
      "metadata": {
        "id": "PCNiBlWevUC5"
      }
    },
    {
      "cell_type": "markdown",
      "source": [
        "**1.1. Теоретический материал – Нейронные сети**\n",
        "\n",
        "**Обучение персептрона**\n",
        "\n",
        "Персептрон представляет собой элементарную часть нейронной сети.\n",
        "Одиночный персептрон является линейным бинарным классификатором. В\n",
        "этой лекции мы рассмотрим процедуру обучения персептрона для\n",
        "классификации данных. Поскольку персептрон представляет собой\n",
        "бинарный классификатор, то мы будем рассматривать лишь два класса.\n",
        "Пусть мы рассматриваем некоторое множество (конечное или\n",
        "бесконечное) n-мерных векторов, которые будем обозначать 𝑥 =\n",
        "(𝑥1, 𝑥2, . . . , 𝑥𝑛)\n",
        "\n",
        "Будем считать, что это множество разбивается на два класса, которые\n",
        "мы будем обозначать +1 и -1. Поэтому возникает задача построения\n",
        "функции, которая задана на нашем множестве векторов, и принимает\n",
        "значения в множестве {+1, −1}. В качестве такой функции может выступать\n",
        "персептрон. С алгебраической точки зрения персептрон состоит из вектора\n",
        "весов 𝑤 = (𝑤0, 𝑤1, 𝑤2, . . . , 𝑤𝑛).\n",
        "\n",
        "При этом персептрон работает по формуле\n",
        "\n",
        "\n",
        ">𝑦 = 𝑠𝑖𝑔𝑛(𝑤0 + 𝑥1𝑤1 + 𝑥2𝑤2 + . . . + 𝑥𝑛𝑤𝑛),\n",
        "\n",
        "\n",
        "где функция 𝑠𝑖𝑔𝑛(𝑡) равна +1, если 𝑡 ≥ 0, и равна −1, если 𝑡 < 0.\n",
        "\n",
        "Приведем алгоритм обучения персептрона. Пусть у нас есть набор\n",
        "обучающих данных {(𝑥, 𝑑)}, где 𝑥 - это различные вектора, а 𝑑 из множества\n",
        "{+1, −1} указывает к какому классу относится наш вектор.\n",
        "1. Положим вектор весов 𝑤 равным нулю.\n",
        "2. Повторять 𝑁 раз следующие шаги:\n",
        "3. Для каждого тестового набора (𝑥, 𝑑):\n",
        "4. Вычислить 𝑦 = 𝑠𝑖𝑔𝑛[(𝑥, 𝑤)].\n",
        "5. Если 𝑦𝑑 < 0, то скорректировать веса 𝑤0 = 𝑤0 + 𝑎𝑑, 𝑤𝑖 =\n",
        "𝑤𝑖 + 𝑎𝑑𝑥𝑖\n",
        ", 𝑖 = 1,2, . . . , 𝑛.\n",
        "\n",
        "Описанный алгоритм довольно легко программировать."
      ],
      "metadata": {
        "id": "fHhbbNOe9B5c"
      }
    },
    {
      "cell_type": "markdown",
      "source": [
        "**1.1.1 Пример**\n",
        "\n",
        "Задача\n",
        "\n",
        "Рассмотрим программу обучения персептрона на языке Python. Сначала\n",
        "рассмотрим основной класс персептрона, который умеет учиться по\n",
        "тестовым данным."
      ],
      "metadata": {
        "id": "O1c3Fjri9t-k"
      }
    },
    {
      "cell_type": "code",
      "source": [
        "#класс который реализует персептрон и его обучение\n",
        "class Perceptron:\n",
        "  def __init__(self, N):\n",
        "    #создать нулевые веса\n",
        "    self.w = list()\n",
        "    for i in range(N):\n",
        "      self.w.append(0)\n",
        "  #метод для вычисления значения персептрона\n",
        "  def calc(self, x):\n",
        "    res = 0\n",
        "    for i in range(len(self.w)):\n",
        "      res = res + self.w[i] * x[i]\n",
        "    return res\n",
        "  #пороговая функция активации персептрона\n",
        "  def sign(self, x):\n",
        "    if self.calc(x) > 0:\n",
        "      return 1\n",
        "    else:\n",
        "      return -1\n",
        "  #обучение на одном примере\n",
        "  def learn(self, la, x, y):\n",
        "    #обучаем только, когда результат неверный\n",
        "    if y * self.calc(x) <= 0:\n",
        "      for i in range(len(self.w)):\n",
        "        self.w[i] = self.w[i] + la * y * x[i]\n",
        "  #обучение по всем данным  Т - кортеж примеров\n",
        "  def learning(self, la, T):\n",
        "    #цикл обучения\n",
        "    for n in range(100):\n",
        "      #обучение по всему набору примеров\n",
        "      for t in T:\n",
        "        self.learn(la, t[0], t[1])"
      ],
      "metadata": {
        "id": "f_BiGjTr904d"
      },
      "execution_count": null,
      "outputs": []
    },
    {
      "cell_type": "markdown",
      "source": [
        "В строке 25 мы осуществляем корректировку весов. Посмотрим, как учится\n",
        "и работает наш персептрон."
      ],
      "metadata": {
        "id": "OQmiWSHw_GYE"
      }
    },
    {
      "cell_type": "code",
      "source": [
        "#создаем класс двумерного персептрона\n",
        "perceptron = Perceptron(2)\n",
        "la = 0.1 #константа обучения\n",
        "#создаем примеры\n",
        "T = list()\n",
        "T.append([[2,1], 1])\n",
        "T.append([[3,2], 1])\n",
        "T.append([[4,1], 1])\n",
        "T.append([[1,2], -1])\n",
        "T.append([[2,3], -1])\n",
        "T.append([[5,7], -1])\n",
        "perceptron.learning(la, T) # обучение персептрона\n",
        "print(perceptron.w) #печатаем веса\n",
        "#проверим работу на тестовых примерах\n",
        "print(perceptron.sign([1.5, 2]))\n",
        "print(perceptron.sign([3, 1.5]))\n",
        "print(perceptron.sign([5, 1]))\n",
        "print(perceptron.sign([5, 10]))"
      ],
      "metadata": {
        "colab": {
          "base_uri": "https://localhost:8080/"
        },
        "id": "uheA0cOn_Iml",
        "outputId": "0c8e2ee8-9b98-4a0a-e10d-fbfc58b0eb34"
      },
      "execution_count": null,
      "outputs": [
        {
          "output_type": "stream",
          "name": "stdout",
          "text": [
            "[0.1, -0.1]\n",
            "-1\n",
            "1\n",
            "1\n",
            "-1\n"
          ]
        }
      ]
    },
    {
      "cell_type": "markdown",
      "source": [
        "Видим, что что наш персептрон отлично научился распознавать образы,\n",
        "относя к классу 1 те вектора, у которых первая компонента больше второй,\n",
        "и к классу -1 в противном случае. Хотя устройство персептронов довольно\n",
        "простое эти конструкции могут решать и практические задачи. Кроме того,\n",
        "из таких персептронов состоят нейронные сети."
      ],
      "metadata": {
        "id": "dyKWKic__qhP"
      }
    },
    {
      "cell_type": "markdown",
      "source": [
        "**Теоретический материал – Реализация нейронной сети на Python**\n",
        "\n",
        "Нейронная сеть — это функциональная единица машинного или\n",
        "глубокого обучения. Она имитирует поведение человеческого мозга,\n",
        "поскольку основана на концепции биологических нейронных сетей.\n",
        "\n",
        "\n",
        "Наиболее распространенный тип нейронной сети, называемый\n",
        "многослойным персептроном (MLP), представляет собой функцию, которая\n",
        "отображает входные данные в выходные данные. MLP имеет один входной\n",
        "слой и один выходной слой. Между ними может быть один или несколько\n",
        "скрытых слоев. Входной слой имеет тот же набор нейронов, что и признаки.\n",
        "Скрытые слои также могут иметь более одного нейрона. Каждый нейрон\n",
        "представляет собой линейную функцию, к которой применяется функция\n",
        "активации для решения сложных задач. Выход каждого слоя подается в\n",
        "качестве входных данных для всех нейронов следующих слоев.\n",
        "\n",
        "\n",
        "Нейронные сети способны решать множество задач. В основном они\n",
        "состоят из таких компонентов:\n",
        "\n",
        "\n",
        "− входной слой (получение и передача данных);\n",
        "\n",
        "\n",
        "− скрытый слой (вычисление);\n",
        "\n",
        "\n",
        "− выходной слой.\n",
        "\n",
        "\n",
        "Чтобы реализовать нейросеть, необходимо\n",
        "понимать, как ведут себя нейроны. Нейрон одновременно\n",
        "принимает несколько входов, обрабатывает эти данные и выдает\n",
        "один выход. Нейронная сеть представляет собой блоки ввода и\n",
        "вывода, где каждое соединение имеет соответствующие веса (это\n",
        "сила связи нейронов; чем вес больше, тем один нейрон сильнее\n",
        "влияет на другой). Данные всех входов умножаются на веса:\n",
        "\n",
        "\n",
        "− 𝑥 → 𝑥 ∗ 𝑤1;\n",
        "− 𝑦 → 𝑦 ∗ 𝑤2.\n",
        "\n",
        "\n",
        "Входы после взвешивания суммируются с прибавлением значения\n",
        "порога «c»:\n",
        "\n",
        "\n",
        "𝑥𝑤1 + 𝑦𝑤2 + 𝑐\n",
        "\n",
        "\n",
        "Полученное значение пропускается через функцию активации\n",
        "(сигмоиду), которая преобразует входы в один выход:\n",
        "\n",
        "\n",
        "𝑧 = 𝑓(𝑥𝑤1 + 𝑦𝑤2 + 𝑐).\n",
        "\n",
        "\n",
        "Так выглядит сигмоида:\n",
        "\n",
        "\n",
        "Интервал результатов сигмоиды — от 0 до 1. Отрицательные числа\n",
        "стремятся к нулю, а положительные — к единице.\n",
        "\n",
        "\n",
        "Например. Пусть нейрон имеет следующие значения: 𝑤 = [0,1] 𝑐 = 4.\n",
        "\n",
        "\n",
        "Входной слой: 𝑥 = 2, 𝑦 = 3.\n",
        "\n",
        "((𝑥𝑤1) + (𝑦𝑤2)) + 𝑐 = 20 + 31 + 4 = 7.\n",
        "𝑧 = 𝑓(7) = 0.99."
      ],
      "metadata": {
        "id": "0zF3oNrI_sit"
      }
    },
    {
      "cell_type": "markdown",
      "source": [
        "**1.1.2 Пример**\n",
        "\n",
        "Решение\n",
        "\n",
        "Для написания кода нейрона будем использовать библиотеку Pytnon\n",
        "— NumPy:\n"
      ],
      "metadata": {
        "id": "TulzZuSQAWQg"
      }
    },
    {
      "cell_type": "code",
      "source": [
        "import numpy as np\n",
        "def sigmoid(x):\n",
        "  #функция активации: f(x) = 1/(1+e^(-x))\n",
        "  return 1 / (1 + np.exp(-x))\n",
        "class Neuron:\n",
        "  def __init__(self, weights, bias):\n",
        "    self.weights = weights\n",
        "    self.bias = bias\n",
        "  def feedforward(self, inputs):\n",
        "    total = np.dot(self.weights, inputs) + self.bias\n",
        "    return sigmoid(total)\n",
        "\n",
        "weights = np.array([0, 1]) #w1=0, w2=1\n",
        "bias = 4  #c=4\n",
        "n = Neuron(weights, bias)\n",
        "x = np.array([2, 3])#x=2, y =3\n",
        "print(n.feedforward(x))#0.9990889488055994"
      ],
      "metadata": {
        "colab": {
          "base_uri": "https://localhost:8080/"
        },
        "id": "lBpb2OTGAd5v",
        "outputId": "93cda066-ff70-4e4b-ae34-9d2c75a37f7b"
      },
      "execution_count": null,
      "outputs": [
        {
          "output_type": "stream",
          "name": "stdout",
          "text": [
            "0.9990889488055994\n"
          ]
        }
      ]
    },
    {
      "cell_type": "markdown",
      "source": [
        "Нейросеть состоит из множества соединенных между собой нейронов.\n",
        "Пример несложной нейронной сети\n",
        "где:\n",
        "\n",
        "\n",
        "𝑥1, 𝑥2 — входной слой;\n",
        "\n",
        "\n",
        "ℎ1, ℎ2 — скрытый слой с двумя нейронами;\n",
        "\n",
        "\n",
        "𝑜1 — выходной слой.\n",
        "\n",
        "\n",
        "Например.\n",
        "\n",
        "Представим, что нейроны из графика выше имеют веса\n",
        "[0, 1]. Пороговое значение (𝑏) у обоих нейронов равно 0 и они имеют\n",
        "идентичную сигмоиду.\n",
        "\n",
        "\n",
        "При входных данных 𝑥 = [2, 3] получим:\n",
        "\n",
        "\n",
        "ℎ1 = ℎ2 = 𝑓(𝑤𝑥 + 𝑏) = 𝑓((02) + (1 ∗ 3) + 0) = 𝑓(3) = 0.95.\n",
        "\n",
        "\n",
        "𝑜1 = 𝑓(𝑤 ∗ [ℎ1, ℎ2] + 𝑏) = 𝑓((0ℎ1) + (1ℎ2) + 0) = 𝑓(0.95) = 0.72.\n",
        "\n",
        "\n",
        "Входные данные по нейронам передаются до тех пор, пока не\n",
        "получатся выходные значения."
      ],
      "metadata": {
        "id": "diSuhBzQBH_t"
      }
    },
    {
      "cell_type": "code",
      "source": [
        "import numpy as np\n",
        "class OurNeuralNetwork:\n",
        "  #Данные нейросети:\n",
        "  #два входа\n",
        "  #два нейрона в скрыттых слоях(h1,h2)\n",
        "  #выход(о1)\n",
        "  #Нейроны имеют идентичные веса и пороги:\n",
        "  #w=[0,1]\n",
        "  #b=0\n",
        "  def __init__(self):\n",
        "    weights = np.array ([0, 1])\n",
        "    bias = 0\n",
        "    #Класс  Neuron из предыдущего раздела\n",
        "    self.h1 = Neuron(weights, bias)\n",
        "    self.h2 = Neuron(weights, bias)\n",
        "    self.o1 = Neuron(weights, bias)\n",
        "  def feedforward(self, x):\n",
        "    out_h1 = self.h1.feedforward(x)\n",
        "    out_h2 = self.h2.feedforward(x)\n",
        "    #входы для о1 - это выходы для h1 и h2\n",
        "    out_o1 = self.o1.feedforward(np.array([out_h1, out_h2]))\n",
        "    return out_o1\n",
        "\n",
        "network = OurNeuralNetwork()\n",
        "x = np.array([2, 3])\n",
        "print(network.feedforward(x))#0.7216325609518421"
      ],
      "metadata": {
        "colab": {
          "base_uri": "https://localhost:8080/"
        },
        "id": "QDYdgY0lBMAR",
        "outputId": "d49dbe2d-6037-40a7-9db8-edca3e86558b"
      },
      "execution_count": null,
      "outputs": [
        {
          "output_type": "stream",
          "name": "stdout",
          "text": [
            "0.7216325609518421\n"
          ]
        }
      ]
    },
    {
      "cell_type": "markdown",
      "source": [
        "**Теоретический материал – Обучение нейронной сети**\n",
        "\n",
        "Обучение нейросети — это подбор весов, которые соответствуют всем\n",
        "входам для решения поставленных задач.\n",
        "Класс нейронной сети:\n",
        "\n",
        "```\n",
        "class NeuralNetwork:\n",
        "  def __init__(self, x, y):\n",
        "    self.input = x\n",
        "    self.weights1 = np.random.rand(self.input.shape[1], 4)\n",
        "    self.weights2 = np.random.rand(4,1)\n",
        "    self.y = y\n",
        "    self.output = np.zeros(y.shape)\n",
        "```\n",
        "Каждый этап процесса обучения состоит из:\n",
        "* прямого распространения (прогнозируемый выход);\n",
        "* обратного распространения (обновление весов и смещений).\n",
        "\n",
        "Например:\n",
        "\n",
        "Дана двуслойная нейросеть:\n",
        "\n",
        "> ŷ = 𝜎(𝑤2𝜎(𝑤1𝑥 + 𝑏1\n",
        ") + 𝑏2\n",
        ").\n",
        "\n",
        "В данном случае на выход ŷ влияют только две переменные — 𝑤 (веса) и 𝑏\n",
        "(смещение). Настройку весов и смещений из данных входа или процесс\n",
        "обучения нейросети можно изобразить так:\n",
        "\n",
        "**Прямое распространение.**\n",
        "\n",
        "Как видно, формула прямого распространения представляет собой\n",
        "несложное вычисление:\n",
        "\n",
        "> ŷ = 𝜎(𝑤2𝜎(𝑤1𝑥 + 𝑏1) + 𝑏2)\n",
        "\n",
        "Далее необходимо добавить в код функцию прямого распространения.\n",
        "\n",
        "Предположим, что смещения в этом случае будут равны 0.\n",
        "\n",
        "```\n",
        "class NeuralNetwork:\n",
        "  def __init__(self, x, y):\n",
        "    self.input = x\n",
        "    self.weights1 = np.random.rand(self.input.shape[1], 4)\n",
        "    self.weights2 = np.random.rand(4,1)\n",
        "    self.y = y\n",
        "    self.output = np.zeros(self.y.shape)\n",
        "  \n",
        "  def feedforward(self):\n",
        "    self.layer1 = sigmoid(np.dot(self.input, self.weights1))\n",
        "    self.output = sigmoid(np.dot(self.layer1, self.weights2))\n",
        "  ```\n",
        "Чтобы вычислить ошибку прогноза, необходимо использовать функцию\n",
        "потери. В примере уместно воспользоваться формулой суммы квадратов\n",
        "ошибок — средним значением между прогнозируемым и фактическим\n",
        "результатами:\n",
        "\n",
        "> 𝐸𝑟𝑟𝑜𝑟 = ∑(𝑦 − 𝑦̂)2\n",
        "\n",
        "**Обратное распространение**\n",
        "\n",
        "Обратное распространение позволяет измерить производные в\n",
        "обратном порядке — от конца к началу, и скорректировать веса и смещения.\n",
        "Для этого необходимо узнать производную функции потери — тангенс угла\n",
        "наклона.\n",
        "\n",
        "Производная функции по отношению к весам и смещениям позволяет\n",
        "узнать градиентный спуск. Производная функции потери не содержит весов\n",
        "и смещений, для ее вычисления необходимо добавить правило цепи:\n",
        "\n",
        "> 𝐿𝑜𝑠𝑠 (𝑦, 𝑦̂) = ∑(𝑦 − 𝑦̂)2𝑛𝑖=1𝜕𝐿𝑜𝑠𝑠 (𝑦, 𝑦̂)𝜕𝑊=𝜕𝐿𝑜𝑠𝑠 (𝑦, 𝑦̂)𝜕𝑦̂∙𝜕𝑦̂𝜕𝑧∙𝜕𝑧𝜕𝑊 == 2(𝑦 − 𝑦̂)∙ производную сигмоиды ∙ 𝑥 == 2(𝑦 − 𝑦̂) ∙ 𝑧(1 − 𝑧) ∙ 𝑥,\n",
        "\n",
        "где 𝑧 = 𝑊𝑥 + 𝑏.\n",
        "\n",
        "Благодаря этому правилу можно регулировать веса. Добавляем в код\n",
        "Python функцию обратного распространения:\n",
        "\n",
        "\n",
        "\n",
        "```\n",
        "class NeuralNetwork:\n",
        "  def __init__(self, x, y):\n",
        "    self.input = x\n",
        "    self.weights1 = np.random.rand(self.input.shape[1], 4)\n",
        "    self.weights2 = np.random.rand(4,1)\n",
        "    self.y = y\n",
        "    self.output = np.zeros(self.y.shape)\n",
        "\n",
        "  def feedforward(self):\n",
        "    self.layer1 = sigmoid(np.dot(self.input, self.weights1))\n",
        "    self.output = sigmoid(np.dot(self.layer1, self.weights2))\n",
        "  \n",
        "  def backprop(self):\n",
        "    d_weights2 = np.dot(self.layer1.T, (2 * (self.y - self.output) * sigmoid_derevative(self.output)))\n",
        "    d_weights1 = np.dot(self.input.T, (np.dot(2 * (self.y - self.output) * sigmoid_derivative(self.output), self.weights2.T) * sigmoid_derivative(self.layer1)))\n",
        "\n",
        "    self.weights1 += d_weights1\n",
        "    self.weights2 += d_weights2\n",
        "\n",
        "```\n",
        "Нейронные сети базируются на определенных алгоритмах и\n",
        "математических функциях. Сначала может казаться, что разобраться в них\n",
        "довольно сложно. Но существуют готовые библиотеки машинного обучения\n",
        "для построения и тренировки нейросетей, позволяющие не углубляться в их\n",
        "устройство.\n"
      ],
      "metadata": {
        "id": "yv26_2g2CIuP"
      }
    },
    {
      "cell_type": "markdown",
      "source": [
        "**Задание**\n",
        "\n",
        "Реализовать классы нейросетей по аналогии с классом OurNeuralNetwork.\n",
        "Данные нейросети:\n",
        "\n",
        "− три входа (𝑥1, 𝑥2, 𝑥3);\n",
        "\n",
        "− три нейрона в скрытых слоях (ℎ1, ℎ2, ℎ3);\n",
        "\n",
        "− выход (𝑜1).\n",
        "\n",
        "Нейроны имеют идентичные веса и пороги:\n",
        "\n",
        "− 𝑤 = [0.5, 0.5, 0.5]\n",
        "\n",
        "− 𝑏 = 0\n",
        "\n",
        "Данные нейросети:\n",
        "\n",
        "− два входа (𝑥1, 𝑥2);\n",
        "\n",
        "− два нейрона в скрытых слоях (ℎ1, ℎ2);\n",
        "\n",
        "− два выхода (𝑜1, 𝑜2).\n",
        "\n",
        "\n",
        "Нейроны имеют идентичные веса и пороги:\n",
        "\n",
        "− 𝑤 = [1, 0];\n",
        "\n",
        "− 𝑏 = 1.\n",
        "\n",
        "Решение:"
      ],
      "metadata": {
        "id": "A5rf6KZpC6aX"
      }
    },
    {
      "cell_type": "code",
      "source": [
        "import numpy as np\n",
        "class NeuralNetwork:\n",
        "  def __init__(self):\n",
        "    weights = np.array ([0.5, 0.5, 0.5])\n",
        "    bias = 0\n",
        "    self.h1 = Neuron(weights, bias)\n",
        "    self.h2 = Neuron(weights, bias)\n",
        "    self.h3 = Neuron(weights, bias)\n",
        "    self.o1 = Neuron(weights, bias)\n",
        "  def feedforward(self, x):\n",
        "    out_h1 = self.h1.feedforward(x)\n",
        "    out_h2 = self.h2.feedforward(x)\n",
        "    out_h3 = self.h3.feedforward(x)\n",
        "    out_o1 = self.o1.feedforward(np.array([out_h1, out_h2, out_h3]))\n",
        "    return out_o1\n",
        "\n",
        "network = NeuralNetwork()\n",
        "x = np.array([2, 3, 4])\n",
        "print(network.feedforward(x))"
      ],
      "metadata": {
        "colab": {
          "base_uri": "https://localhost:8080/"
        },
        "id": "D6QTeuemBg4L",
        "outputId": "06eb047e-100c-44cf-c084-30d937466127"
      },
      "execution_count": null,
      "outputs": [
        {
          "output_type": "stream",
          "name": "stdout",
          "text": [
            "0.8151036049051821\n"
          ]
        }
      ]
    },
    {
      "cell_type": "code",
      "source": [
        "import numpy as np\n",
        "class NeuralNetwork:\n",
        "  def __init__(self):\n",
        "    weights = np.array ([1, 0])\n",
        "    bias = 1\n",
        "    self.h1 = Neuron(weights, bias)\n",
        "    self.h2 = Neuron(weights, bias)\n",
        "    self.o1 = Neuron(weights, bias)\n",
        "    self.o2 = Neuron(weights, bias)\n",
        "  def feedforward(self, x):\n",
        "    out_h1 = self.h1.feedforward(x)\n",
        "    out_h2 = self.h2.feedforward(x)\n",
        "    out_o1 = self.o1.feedforward(np.array([out_h1, out_h2]))\n",
        "    out_o2 = self.o2.feedforward(np.array([out_h2, out_h1]))\n",
        "    return np.array([out_o1, out_o2])\n",
        "\n",
        "network = NeuralNetwork()\n",
        "x = np.array([2, 3])\n",
        "print(network.feedforward(x))"
      ],
      "metadata": {
        "colab": {
          "base_uri": "https://localhost:8080/"
        },
        "id": "YnoCqYDPMdGL",
        "outputId": "4c999a25-c13f-43f3-b69f-81cc5b86d640"
      },
      "execution_count": null,
      "outputs": [
        {
          "output_type": "stream",
          "name": "stdout",
          "text": [
            "[0.87572705 0.87572705]\n"
          ]
        }
      ]
    },
    {
      "cell_type": "markdown",
      "source": [
        "**Задание**\n",
        "\n",
        "Реализуйте классы нейронных сетей с использованием других функций\n",
        "активации"
      ],
      "metadata": {
        "id": "I7XgBekToVao"
      }
    },
    {
      "cell_type": "code",
      "source": [
        "import numpy as np\n",
        "class NeuralNetwork:\n",
        "  def __init__(self):\n",
        "    weights = np.array ([1, 0])\n",
        "    bias = 1\n",
        "    self.h1 = Neuron(weights, bias)\n",
        "    self.h2 = Neuron(weights, bias)\n",
        "    self.o1 = Neuron(weights, bias)\n",
        "\n",
        "  def sigmoid(x):\n",
        "    return 1 / (1 + np.exp(-x))\n",
        "\n",
        "  def feedforward(self, x):\n",
        "    out_h1 = self.h1.feedforward(x)\n",
        "    out_h2 = self.h2.feedforward(x)\n",
        "    out_o1 = self.o1.feedforward(np.array([out_h1, out_h2]))\n",
        "    return sigmoid(out_o1)\n",
        "\n",
        "network = NeuralNetwork()\n",
        "x = np.array([2, 3])\n",
        "print(network.feedforward(x))"
      ],
      "metadata": {
        "colab": {
          "base_uri": "https://localhost:8080/"
        },
        "id": "8PgCeH9JpKiu",
        "outputId": "70c03dfc-027f-492b-ad86-9416274b4a48"
      },
      "execution_count": null,
      "outputs": [
        {
          "output_type": "stream",
          "name": "stdout",
          "text": [
            "0.7059359796302747\n"
          ]
        }
      ]
    },
    {
      "cell_type": "code",
      "source": [
        "import numpy as np\n",
        "class NeuralNetwork:\n",
        "  def __init__(self):\n",
        "    weights = np.array ([1, 0])\n",
        "    bias = 1\n",
        "    self.h1 = Neuron(weights, bias)\n",
        "    self.h2 = Neuron(weights, bias)\n",
        "    self.o1 = Neuron(weights, bias)\n",
        "\n",
        "  def feedforward(self, x):\n",
        "    out_h1 = self.h1.feedforward(x)\n",
        "    out_h2 = self.h2.feedforward(x)\n",
        "    out_o1 = self.o1.feedforward(np.array([out_h1, out_h2]))\n",
        "    return np.tanh(out_o1)\n",
        "\n",
        "network = NeuralNetwork()\n",
        "x = np.array([2, 3])\n",
        "print(network.feedforward(x))"
      ],
      "metadata": {
        "colab": {
          "base_uri": "https://localhost:8080/"
        },
        "id": "feVmWYtupRl_",
        "outputId": "da82af3f-ac5b-43d6-a053-f5a1651d6a56"
      },
      "execution_count": null,
      "outputs": [
        {
          "output_type": "stream",
          "name": "stdout",
          "text": [
            "0.7042722267583229\n"
          ]
        }
      ]
    },
    {
      "cell_type": "code",
      "source": [
        "import numpy as np\n",
        "class NeuralNetwork:\n",
        "  def __init__(self):\n",
        "    weights = np.array ([1, 0])\n",
        "    bias = 1\n",
        "    self.h1 = Neuron(weights, bias)\n",
        "    self.h2 = Neuron(weights, bias)\n",
        "    self.o1 = Neuron(weights, bias)\n",
        "\n",
        "  def feedforward(self, x):\n",
        "    out_h1 = self.h1.feedforward(x)\n",
        "    out_h2 = self.h2.feedforward(x)\n",
        "    out_o1 = self.o1.feedforward(np.array([out_h1, out_h2]))\n",
        "    return max(0, out_o1)\n",
        "\n",
        "network = NeuralNetwork()\n",
        "x = np.array([2, 3])\n",
        "print(network.feedforward(x))"
      ],
      "metadata": {
        "colab": {
          "base_uri": "https://localhost:8080/"
        },
        "id": "1PFFdV_fpSHL",
        "outputId": "afc746cb-35a6-48f1-9195-4207fb29b65d"
      },
      "execution_count": null,
      "outputs": [
        {
          "output_type": "stream",
          "name": "stdout",
          "text": [
            "0.8757270529783324\n"
          ]
        }
      ]
    },
    {
      "cell_type": "markdown",
      "source": [
        "**1.2. Введение в нейронные сети с помощью Scikit-Learn в Python**\n",
        "\n",
        "Теперь мы знаем, что такое нейронные сети и какие шаги необходимо\n",
        "выполнить, чтобы построить простую нейронную сеть с плотными связями.\n",
        "В этом разделе мы попытаемся построить простую нейронную сеть, которая\n",
        "предсказывает класс, к которому принадлежит данное растение ириса. Мы\n",
        "будем использовать библиотеку Python Scikit-Learn для создания нашей\n",
        "нейронной сети.\n",
        "\n",
        "Sklearn предоставляет 2 оценщика для задач классификации и\n",
        "регрессии соответственно:\n",
        "\n",
        "− MLPClassifier;\n",
        "\n",
        "− MLPRegressor\n",
        "\n",
        "Начнем с импорта необходимых библиотек.\n",
        "\n",
        "\n",
        "```\n",
        "import numpy as np\n",
        "import pandas as pd\n",
        "import matplotlip.pyplot as plt\n",
        "import sklearn\n",
        "```\n",
        "\n",
        "**MLPClassifier**\n",
        "\n",
        "Загрузка данных\n",
        "\n",
        "Мы будем загружать два набора данных.\n",
        "\n",
        "Набор данных цифр: мы будем использовать набор данных цифр,\n",
        "который имеет изображения размером 8x8 для цифр 0-9. Ниже мы будем\n",
        "использовать цифровые данные для задач классификации.\n",
        "\n",
        "Набор данных о жилье в Бостоне: мы будем использовать набор\n",
        "данных о жилье в Бостоне, который содержит информацию о различных\n",
        "свойствах дома, таких как среднее количество комнат, уровень преступности\n",
        "на душу населения в городе и т. д. Мы будем использовать его для задач\n",
        "регрессии.\n",
        "\n",
        "Sklearn предоставляет оба этих набора данных. Мы можем загрузить\n",
        "их, вызвав методы load_digits() и load_boston()."
      ],
      "metadata": {
        "id": "U6Mmv0NWpWnB"
      }
    },
    {
      "cell_type": "code",
      "source": [
        "from sklearn.datasets\n",
        "import load_digits, load_boston\n",
        "\n",
        "digits = load_digits()\n",
        "X_digits, Y_digits = digits.data, digits.target\n",
        "print('Dataset Sizes : ' , X_digits.shape, Y_digits.shape)"
      ],
      "metadata": {
        "id": "6NlJhxDfpd1U"
      },
      "execution_count": null,
      "outputs": []
    },
    {
      "cell_type": "code",
      "source": [
        "boston = load_boston()\n",
        "X_boston, Y_boston = digits.data, digits.target\n",
        "print('Dataset Sizes : ', X_boston.shape, Y_boston.shape)"
      ],
      "metadata": {
        "id": "QN0a3U7gqZNw"
      },
      "execution_count": null,
      "outputs": []
    },
    {
      "cell_type": "markdown",
      "source": [
        "Классификация\n",
        "\n",
        "MLPClassifier — это класс, доступный как часть модуля neuro_network\n",
        "sklearn для выполнения задач классификации с использованием\n",
        "многослойного персептрона.\n",
        "\n",
        "Как обычно разделим набор данных на две части:\n",
        "\n",
        "− данные обучения, которые будут использоваться для модели\n",
        "обучения;\n",
        "\n",
        "− тестовые данные, по которым будет проверяться точность\n",
        "обученной модели.\n",
        "\n",
        "Функция train_test_split модуля model_selection sklearn поможет нам\n",
        "разделить данные на два набора: 80% для обучения и 20% для тестирования.\n",
        "\n",
        "Мы также используем seed(random_state=123) с train_test_split, чтобы мы всегда получали одно и то же разделение и могли сравнивать и воспроизволить результаты в будущем.\n",
        "\n"
      ],
      "metadata": {
        "id": "aF24eT5LrFYc"
      }
    },
    {
      "cell_type": "code",
      "source": [
        "from sklearn.model_selection import train_test_split\n",
        "\n",
        "X_train, X_test, Y_train, Y_test = train_test_split(X_digits, Y_digits, train_size= 0.80, test_size= 0.20,\n",
        "                                                    stratify=Y_digits, random_state=123)\n",
        "print('Train/Test Sizes : ', X_train.shape, X_test.shape, Y_train.shape, Y_test.shape)"
      ],
      "metadata": {
        "id": "bjgdTaFUrWFH"
      },
      "execution_count": null,
      "outputs": []
    },
    {
      "cell_type": "markdown",
      "source": [
        "Для начала натренируем модель MLPClassifier с параметрами по умолчанию\n",
        "для тренировочных данных."
      ],
      "metadata": {
        "id": "J9Jw2ho5rgrJ"
      }
    },
    {
      "cell_type": "code",
      "source": [
        "from sklearn.neural_network import MLPClassifier\n",
        "\n",
        "mlp_classifier = MLPClassifier(random_state=123)\n",
        "mlp_classifier.fit(X_train, Y_train)\n",
        "MLPClassifier(activation='relu', alpha=0.0001,\n",
        "              batch_size='auto', beta_1=0.9, beta_2=0.999,\n",
        "              early_stopping=False, epsilon=1e-08, hidden_layer_sizes= (100,),\n",
        "              learning_rate='constant', learning_rate_init=0.001,\n",
        "              max_iter=200, momentum=0.9, n_iter_no_change=10, nesterovs_momentum=True,\n",
        "              power_t=0.5, random_state=123, shuffle=True, solver='adam' ,\n",
        "              tol=0.0001, validation_fraction=0.1, verbose=False, warm_start=False)"
      ],
      "metadata": {
        "id": "oQWrgtmAriTx"
      },
      "execution_count": null,
      "outputs": []
    },
    {
      "cell_type": "code",
      "source": [
        "Y_preds = mlp_classifier.predict(X_test)\n",
        "\n",
        "print(Y_preds[:15])\n",
        "print(Y_test[:15])\n",
        "#Метод Score для оценки точностей моделей классификации\n",
        "print('Test Accuracy : %.3f'%mlp_classifier.score(X_test, Y_test))\n",
        "\n",
        "print('Training Accuracy : %.3f'%mlp_classifier.score(X_train, Y_train))"
      ],
      "metadata": {
        "id": "_iEOP-9wsz2q"
      },
      "execution_count": null,
      "outputs": []
    },
    {
      "cell_type": "markdown",
      "source": [
        "Cоздадим метод plot_confusion_matrix(), который принимает исходные и предсказанные метки данных по модели. Затем он строит матрицу путаницы,\n",
        "используя matplotlib.\n"
      ],
      "metadata": {
        "id": "ggy3PNpUtFLB"
      }
    },
    {
      "cell_type": "code",
      "source": [
        "from sklearn.metrics import confusion_matrix\n",
        "import matplotlib.pyplot as plt\n",
        "\n",
        "def plot_confusion_matrix(Y_test, Y_preds):\n",
        "  conf_mat = confusion_matrix(Y_test, Y_preds)\n",
        "  fig = plt.figure(figsize=(6,6))\n",
        "  plt.matshow(conf_mat, cmap=plt.cm.Blues, fignum=1)\n",
        "  plt.yticks(range(10), range(10))\n",
        "  plt.xticks(range(10), range(10))\n",
        "  plt.colorbar();\n",
        "  for i in range(10):\n",
        "    for j in range(10):\n",
        "      plt.text(i -0.2, j+0.1, str(conf_mat[j, i]), color ='tab:red')\n",
        "\n",
        "plot_confusion_matrix(Y_test, mlp_classifier.predict(X_test))"
      ],
      "metadata": {
        "id": "8uHt-AEdtJMM"
      },
      "execution_count": null,
      "outputs": []
    },
    {
      "cell_type": "markdown",
      "source": [
        "Ниже приведен список важных атрибутов, доступных с MLPClassifier,\n",
        "которые могут предоставить значимую информацию после обучения\n",
        "модели.\n",
        "\n",
        "− loss_ — возвращает убыток после завершения процесса обучения.\n",
        "\n",
        "− coefs_ — возвращает массив длины n_layers-1, где каждый элемент\n",
        "представляет веса, связанные с уровнем i.\n",
        "\n",
        "− intercepts_ — возвращает массив длины n_layers-1, где каждый\n",
        "элемент представляет собой перехват, связанный с персептронами\n",
        "слоя i.\n",
        "\n",
        "− n_iter_ — количество итераций, для которых выполнялась оценка.\n",
        "\n",
        "− out_activation_ — возвращает имя функции активации выходного\n",
        "слоя.\n"
      ],
      "metadata": {
        "id": "uaJfjgAFtQRv"
      }
    },
    {
      "cell_type": "code",
      "source": [
        "print('Loss : ', mlp_classifier.loss_)\n",
        "print('Number of Coefs : ',len(mlp_classifier.coefs_))\n",
        "print('Number of Intercepts : ',len(mlp_classifier.intercepts_))\n",
        "print('Number of Intercepts for which Estimator Ran : ', mlp_classifier.n_iter_)\n",
        "print('Name of Output layer Activation Function : ', mlp_classifier.out_activation_)"
      ],
      "metadata": {
        "id": "n8yiSyGPtWu3"
      },
      "execution_count": null,
      "outputs": []
    },
    {
      "cell_type": "markdown",
      "source": [
        "**MLPRegressor**\n",
        "\n",
        "MLPRegressor — это класс, доступный как часть библиотеки\n",
        "neuro_network sklearn для выполнения задач регрессии с использованием\n",
        "многослойного персептрона. Также разделим набор данных на две части:\n",
        "\n",
        "− данные обучения (80%), которые будут использоваться для\n",
        "модели обучения;\n",
        "\n",
        "− тестовые данные (20%), по которым будет проверяться точность\n",
        "обученной модели."
      ],
      "metadata": {
        "id": "thy8JUsxta-6"
      }
    },
    {
      "cell_type": "code",
      "source": [
        "X_train, X_test, Y_train, Y_test = train_test_split(X_boston, Y_boston,\n",
        "                                                    train_size= 0.80, test_size= 0.20,\n",
        "                                                    stratify=Y_digits, random_state=123)\n",
        "print('Train/Test Sizes : ', X_train.shape, X_test.shape, Y_train.shape, Y_test.shape)"
      ],
      "metadata": {
        "id": "RWdocohatkAF"
      },
      "execution_count": null,
      "outputs": []
    },
    {
      "cell_type": "code",
      "source": [
        "from sklearn.neural_network import MLPRegressor\n",
        "\n",
        "mlp_regressor = MLPRegressor(random_state=123)\n",
        "mlp_regressor.fit(X_train, Y_train)\n",
        "MLPClassifier(activation='relu', alpha=0.0001,\n",
        "              batch_size='auto', beta_1=0.9, beta_2=0.999,\n",
        "              early_stopping=False, epsilon=1e-08, hidden_layer_sizes= (100,),\n",
        "              learning_rate='constant', learning_rate_init=0.001,\n",
        "              max_iter=200, momentum=0.9, n_iter_no_change=10, nesterovs_momentum=True,\n",
        "              power_t=0.5, random_state=123, shuffle=True, solver='adam' ,\n",
        "              tol=0.0001, validation_fraction=0.1, verbose=False, warm_start=False)"
      ],
      "metadata": {
        "id": "1mmBIEBdvrvt"
      },
      "execution_count": null,
      "outputs": []
    },
    {
      "cell_type": "code",
      "source": [
        "Y_preds = mlp_regressor.predict(X_test)\n",
        "\n",
        "print(Y_preds[:10])\n",
        "print(Y_test[:10])\n",
        "#Метод Score оценивает точность модели классификации\n",
        "print('Test R^2 Score : %.3f'%mlp_regressor.score(X_test, Y_test))\n",
        "print('Training R^2 Score : %.3f'%mlp_regressor.score(X_train, Y_train))"
      ],
      "metadata": {
        "id": "dHDTrlzMv1rN"
      },
      "execution_count": null,
      "outputs": []
    },
    {
      "cell_type": "markdown",
      "source": [
        "MLPRegressor имеет все атрибуты такие же, как и у MLPClassifier:\n"
      ],
      "metadata": {
        "id": "3ljNPBQTwFME"
      }
    },
    {
      "cell_type": "code",
      "source": [
        "print('Loss : ', mlp_regressor.loss_)"
      ],
      "metadata": {
        "id": "CRU7d6jGwNp4"
      },
      "execution_count": null,
      "outputs": []
    },
    {
      "cell_type": "code",
      "source": [
        "print('Number of Coefs : ', len(mlp_regressor.coefs_))\n",
        "[weights.shape for weights in mlp_regressor.coefs_]"
      ],
      "metadata": {
        "id": "46SbQ3fswSo2"
      },
      "execution_count": null,
      "outputs": []
    },
    {
      "cell_type": "code",
      "source": [
        "print('Number of Iterations for which estimator Ran : ', mlp_regressor.n_iter_)"
      ],
      "metadata": {
        "id": "qBbtmOjEwcV1"
      },
      "execution_count": null,
      "outputs": []
    },
    {
      "cell_type": "code",
      "source": [
        "print('Name of Output Layer Activation Function : ', mlp_regressor.out_activation_)"
      ],
      "metadata": {
        "id": "Qv6G0piTwHyZ"
      },
      "execution_count": null,
      "outputs": []
    },
    {
      "cell_type": "markdown",
      "source": [
        "**Задание**\n",
        "\n",
        "Используйте классы MLPClassified и MLPRegressor для классификации и\n",
        "регрессии произвольных данных из интернета. Проведите анализ\n",
        "атрибуты, полученных моделей.\n",
        "\n",
        "\n",
        "Для классификации можете взять набор данных Ирисов:\n",
        "\n",
        "\n",
        "https://gist.githubusercontent.com/netj/8836201/raw/6f9306ad21398ea43cba4f7d537619d0e07d5ae3/iris.csv\n",
        "\n",
        "\n",
        "а для регрессии датасет зависимости заработной платы от опыта работы:\n",
        "\n",
        "\n",
        "https://raw.githubusercontent.com/AnnaShestova/salary-years-simple-linearregression/master/Salary_Data.csv"
      ],
      "metadata": {
        "id": "8RDcqbOPd0Vs"
      }
    },
    {
      "cell_type": "code",
      "source": [
        "from sklearn.datasets import load_iris\n",
        "from sklearn.neural_network import MLPClassifier\n",
        "from sklearn.model_selection import train_test_split\n",
        "\n",
        "iris = load_iris()\n",
        "X_iris, Y_iris = iris.data, iris.target\n",
        "print('Dataset Sizes: ', X_iris, Y_iris)"
      ],
      "metadata": {
        "id": "MOfRt1ZdwMpj"
      },
      "execution_count": null,
      "outputs": []
    },
    {
      "cell_type": "code",
      "source": [
        "X_train, X_test, Y_train, Y_test = train_test_split(X_iris, Y_iris, train_size= 0.80, test_size= 0.20, stratify=Y_iris, random_state=123)\n",
        "print('Train/Test Sizes : ', X_train.shape, X_test.shape, Y_train.shape, Y_test.shape)\n"
      ],
      "metadata": {
        "id": "MTWFS07peVI4"
      },
      "execution_count": null,
      "outputs": []
    },
    {
      "cell_type": "code",
      "source": [
        "mlp_classifier = MLPClassifier(random_state=123)\n",
        "mlp_classifier.fit(X_train, Y_train)\n",
        "MLPClassifier(activation='relu', alpha=0.0001,\n",
        "              batch_size='auto', beta_1=0.9, beta_2=0.999,\n",
        "              early_stopping=False, epsilon=1e-08, hidden_layer_sizes= (100,),\n",
        "              learning_rate='constant', learning_rate_init=0.001,\n",
        "              max_iter=200, momentum=0.9, n_iter_no_change=10, nesterovs_momentum=True,\n",
        "              power_t=0.5, random_state=123, shuffle=True, solver='adam' ,\n",
        "              tol=0.0001, validation_fraction=0.1, verbose=False, warm_start=False)"
      ],
      "metadata": {
        "id": "py965kk8e0jL"
      },
      "execution_count": null,
      "outputs": []
    },
    {
      "cell_type": "code",
      "source": [
        "Y_preds = mlp_classifier.predict(X_test)\n",
        "\n",
        "print(Y_preds[:15])\n",
        "print(Y_test[:15])\n",
        "print('Test Accuracy : %.3f'%mlp_classifier.score(X_test, Y_test))\n",
        "print('Training Accuracy : %.3f'%mlp_classifier.score(X_train, Y_train))"
      ],
      "metadata": {
        "id": "rSFkB6Gwe8Wi"
      },
      "execution_count": null,
      "outputs": []
    },
    {
      "cell_type": "code",
      "source": [
        "import pandas as pd\n",
        "from sklearn.neural_network import MLPRegressor\n",
        "from sklearn.model_selection import train_test_split\n",
        "\n",
        "dataframe = pd.read_csv('https://raw.githubusercontent.com/AnnaShestova/salary-years-simple-linear-regression/master/Salary_Data.csv')\n",
        "\n",
        "X_salary = dataframe.iloc[:, :1].values\n",
        "Y_salary = dataframe.iloc[:, :1].values\n",
        "\n",
        "print('Dataset Sizes: ', X_salary, Y_salary)"
      ],
      "metadata": {
        "id": "Pa0rOQYtfRBt"
      },
      "execution_count": null,
      "outputs": []
    },
    {
      "cell_type": "code",
      "source": [
        "X_train, X_test, Y_train, Y_test = train_test_split(X_salary, Y_salary, train_size = 0.8, test_size=0.2, random_state = 123)\n",
        "print('Train/Test Sizes : ', X_train.shape, X_test.shape, Y_train.shape, Y_test.shape)"
      ],
      "metadata": {
        "id": "Rbkd5hUTgqvy"
      },
      "execution_count": null,
      "outputs": []
    },
    {
      "cell_type": "code",
      "source": [
        "mlp_regressor = MLPRegressor(random_state=123)\n",
        "mlp_regressor.fit(X_train, Y_train)\n",
        "MLPClassifier(activation='relu', alpha=0.0001,\n",
        "              batch_size='auto', beta_1=0.9, beta_2=0.999,\n",
        "              early_stopping=False, epsilon=1e-08, hidden_layer_sizes= (100,),\n",
        "              learning_rate='constant', learning_rate_init=0.001,\n",
        "              max_iter=200, momentum=0.9, n_iter_no_change=10, nesterovs_momentum=True,\n",
        "              power_t=0.5, random_state=123, shuffle=True, solver='adam' ,\n",
        "              tol=0.0001, validation_fraction=0.1, verbose=False, warm_start=False)"
      ],
      "metadata": {
        "id": "f7fd70EZhP7k"
      },
      "execution_count": null,
      "outputs": []
    },
    {
      "cell_type": "code",
      "source": [
        "Y_preds = mlp_regressor.predict(X_test)\n",
        "print(Y_preds[:10])\n",
        "print(Y_test[:10])\n",
        "print('Test R^2 Score : %.3f'%mlp_regressor.score(X_test, Y_test))\n",
        "print('Training R^2 Score : %.3f'%mlp_regressor.score(X_train, Y_train))"
      ],
      "metadata": {
        "id": "KSxGxBVmhthZ"
      },
      "execution_count": null,
      "outputs": []
    },
    {
      "cell_type": "code",
      "source": [
        "print('\\nLoss : ', mlp_regressor.loss_)"
      ],
      "metadata": {
        "id": "Kg9SblETiJxr"
      },
      "execution_count": null,
      "outputs": []
    },
    {
      "cell_type": "code",
      "source": [
        "print('Number of Coefs : ', len(mlp_regressor.coefs_))\n",
        "[weights.shape for weights in mlp_regressor.coefs_]"
      ],
      "metadata": {
        "id": "--lxuhpViKjF"
      },
      "execution_count": null,
      "outputs": []
    },
    {
      "cell_type": "code",
      "source": [
        "print('Number of Iterations for which estimator Ran : ', mlp_regressor.n_iter_)"
      ],
      "metadata": {
        "id": "DnyID6L0iK7v"
      },
      "execution_count": null,
      "outputs": []
    },
    {
      "cell_type": "code",
      "source": [
        "print('Name of Output Layer Activation Function : ', mlp_regressor.out_activation_)"
      ],
      "metadata": {
        "id": "_ylRdPt_iaVR"
      },
      "execution_count": null,
      "outputs": []
    }
  ]
}
